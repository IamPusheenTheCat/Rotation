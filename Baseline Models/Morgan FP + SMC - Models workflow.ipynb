{
 "cells": [
  {
   "cell_type": "markdown",
   "metadata": {},
   "source": [
    "# Morgan FP, SMC, A workflow\n",
    "In this document, we calculated Morgan Fingerprint for each reaction in SMC dataset, and then train them use Random forest, Linear Regression, XGBoost & neural network."
   ]
  },
  {
   "cell_type": "code",
   "execution_count": 254,
   "metadata": {},
   "outputs": [],
   "source": [
    "import numpy as np\n",
    "import sklearn\n",
    "import matplotlib.pyplot as plt\n",
    "import pandas as pd\n",
    "from rdkit.Chem import AllChem, MolFromSmiles\n",
    "from rdkit.Chem.SaltRemover import SaltRemover\n",
    "from rdkit.Chem import DataStructs\n",
    "from rdkit import Chem\n",
    "\n",
    "from sklearn.metrics import mean_squared_error\n",
    "from sklearn.metrics import r2_score\n",
    "from sklearn.model_selection import cross_val_score"
   ]
  },
  {
   "cell_type": "code",
   "execution_count": 255,
   "metadata": {},
   "outputs": [
    {
     "name": "stdout",
     "output_type": "stream",
     "text": [
      "['Cl', 'C', '1', '=', 'C', 'C', '=', 'C', '(', 'O', 'C', ')', 'C', '=', 'C', '1', '.', 'O', 'B', '(', 'O', ')', 'C', '1', '=', 'C', 'C', '=', 'C', 'C', '=', 'C', '1', '>>', 'C', 'O', 'C', '(', 'C', '=', 'C', '1', ')', '=', 'C', 'C', '=', 'C', '1', 'C', '2', '=', 'C', 'C', '=', 'C', 'C', '=', 'C', '2']\n"
     ]
    },
    {
     "data": {
      "image/png": "[encoded data removed]",
      "text/plain": [
       "<rdkit.Chem.rdChemReactions.ChemicalReaction at 0x278d2e92ee0>"
      ]
     },
     "execution_count": 255,
     "metadata": {},
     "output_type": "execute_result"
    }
   ],
   "source": [
    "from rxnfp.tokenization import get_default_tokenizer, SmilesTokenizer\n",
    "from rdkit.Chem import rdChemReactions\n",
    "\n",
    "smiles_tokenizer = get_default_tokenizer()\n",
    "\n",
    "reaction_smiles = 'ClC1=CC=C(OC)C=C1.OB(O)C1=CC=CC=C1>>COC(C=C1)=CC=C1C2=CC=CC=C2'\n",
    "rxn = rdChemReactions.ReactionFromSmarts(reaction_smiles,useSmiles=True)\n",
    "\n",
    "print(smiles_tokenizer.tokenize(reaction_smiles))\n",
    "rxn"
   ]
  },
  {
   "cell_type": "code",
   "execution_count": 256,
   "metadata": {},
   "outputs": [],
   "source": [
    "\"\"\"\"\n",
    "def canonicalize_with_dict(smi, can_smi_dict={}):\n",
    "    if smi not in can_smi_dict.keys():\n",
    "        return Chem.MolToSmiles(Chem.MolFromSmiles(smi))\n",
    "    else:\n",
    "        return can_smi_dict[smi]\n",
    "\"\"\"\n",
    "    \n",
    "def generate_ligand_data(df):\n",
    "    #Convert the smiles of ligand to a dataframe.\n",
    "    df = df.copy()\n",
    "    \n",
    "    #ligand_smiles_dict = {}\n",
    "    rxns = []\n",
    "    \"\"\"\n",
    "    The rxns is not useful now. When we use the whole rxn instead of ligand to predict, it will be convenient.\n",
    "    To try with the entire rxn, tabulate all chemicals into a single column of dataframe.\n",
    "    \"\"\"\n",
    "    smiles = df['Smiles']\n",
    "    for i in smiles:\n",
    "        try:\n",
    "            ligand_smiles = Chem.MolFromSmiles(i)\n",
    "            rxns.append(ligand_smiles)\n",
    "        except:\n",
    "            print(i)\n",
    "        \n",
    "    return rxns\n",
    "   "
   ]
  },
  {
   "cell_type": "markdown",
   "metadata": {},
   "source": [
    "# Cleaning up the SMC dataset\n",
    "Train set: 0-71,  test set: 71-all. Validation set is not applied but easy to add on."
   ]
  },
  {
   "cell_type": "code",
   "execution_count": 257,
   "metadata": {},
   "outputs": [
    {
     "data": {
      "text/html": [
       "<div>\n",
       "<style scoped>\n",
       "    .dataframe tbody tr th:only-of-type {\n",
       "        vertical-align: middle;\n",
       "    }\n",
       "\n",
       "    .dataframe tbody tr th {\n",
       "        vertical-align: top;\n",
       "    }\n",
       "\n",
       "    .dataframe thead th {\n",
       "        text-align: right;\n",
       "    }\n",
       "</style>\n",
       "<table border=\"1\" class=\"dataframe\">\n",
       "  <thead>\n",
       "    <tr style=\"text-align: right;\">\n",
       "      <th></th>\n",
       "      <th>text</th>\n",
       "      <th>labels</th>\n",
       "    </tr>\n",
       "  </thead>\n",
       "  <tbody>\n",
       "    <tr>\n",
       "      <th>81</th>\n",
       "      <td>N#Cc1ccccc1P(c1ccccc1)c1ccccc1</td>\n",
       "      <td>-0.815128</td>\n",
       "    </tr>\n",
       "    <tr>\n",
       "      <th>25</th>\n",
       "      <td>COc1ccc(OC)c(c1P(c2cc(cc(c2)C(F)(F)F)C(F)(F)F)...</td>\n",
       "      <td>-0.777178</td>\n",
       "    </tr>\n",
       "    <tr>\n",
       "      <th>83</th>\n",
       "      <td>OCP(CO)CO</td>\n",
       "      <td>-0.815128</td>\n",
       "    </tr>\n",
       "    <tr>\n",
       "      <th>63</th>\n",
       "      <td>CC(C)(C)P(c1ccccc1-n2nc(cc2-c3ccccc3)-c4ccccc4...</td>\n",
       "      <td>-0.739227</td>\n",
       "    </tr>\n",
       "    <tr>\n",
       "      <th>6</th>\n",
       "      <td>CC(C)(C)CP(C(C)(C)C)C(C)(C)C</td>\n",
       "      <td>-0.777178</td>\n",
       "    </tr>\n",
       "  </tbody>\n",
       "</table>\n",
       "</div>"
      ],
      "text/plain": [
       "                                                 text    labels\n",
       "81                     N#Cc1ccccc1P(c1ccccc1)c1ccccc1 -0.815128\n",
       "25  COc1ccc(OC)c(c1P(c2cc(cc(c2)C(F)(F)F)C(F)(F)F)... -0.777178\n",
       "83                                          OCP(CO)CO -0.815128\n",
       "63  CC(C)(C)P(c1ccccc1-n2nc(cc2-c3ccccc3)-c4ccccc4... -0.739227\n",
       "6                        CC(C)(C)CP(C(C)(C)C)C(C)(C)C -0.777178"
      ]
     },
     "execution_count": 257,
     "metadata": {},
     "output_type": "execute_result"
    }
   ],
   "source": [
    "# data\n",
    "import pandas as pd\n",
    "from rdkit import Chem\n",
    "#from rxn_yields.data import generate_buchwald_hartwig_rxns\n",
    "#df = pd.read_excel('../data/Buchwald-Hartwig/Dreher_and_Doyle_input_data.xlsx', sheet_name='FullCV_01')\n",
    "df = pd.read_excel('smc_data.xlsx', sheet_name='SMC')\n",
    "df = df.sample(frac=1,random_state=41)\n",
    "df['rxn'] = df['Smiles']\n",
    "df['ligand_data'] = generate_ligand_data(df)\n",
    "df['Output'] = df['II']\n",
    "\n",
    "train_df = df.iloc[:71][['rxn', 'Output']] \n",
    "valid_df = df.iloc[71:71][['rxn', 'Output']] \n",
    "test_df = df.iloc[71:][['rxn', 'Output']] #\n",
    "\n",
    "train_df.columns = ['text', 'labels']\n",
    "valid_df.columns = ['text', 'labels']\n",
    "test_df.columns = ['text', 'labels']\n",
    "mean = train_df.labels.mean()\n",
    "std = train_df.labels.std()\n",
    "train_df['labels'] = (train_df['labels'] - mean) / std\n",
    "valid_df['labels'] = (valid_df['labels'] - mean) / std\n",
    "test_df['labels'] = (test_df['labels'] - mean) / std\n",
    "train_df.head()"
   ]
  },
  {
   "cell_type": "code",
   "execution_count": 258,
   "metadata": {},
   "outputs": [
    {
     "data": {
      "text/plain": [
       "<rdkit.DataStructs.cDataStructs.ExplicitBitVect at 0x278ca1666c0>"
      ]
     },
     "execution_count": 258,
     "metadata": {},
     "output_type": "execute_result"
    }
   ],
   "source": [
    "x=MolFromSmiles(\"c1ccc(P(C2CCCCC2)C2CCCCC2)cc1\")\n",
    "x = AllChem.GetMorganFingerprintAsBitVect(x,2,nBits=1024)\n",
    "arr = np.zeros((1,))\n",
    "DataStructs.ConvertToNumpyArray(x, arr)\n",
    "\n",
    "x"
   ]
  },
  {
   "cell_type": "code",
   "execution_count": 259,
   "metadata": {
    "scrolled": true
   },
   "outputs": [
    {
     "data": {
      "text/html": [
       "<div>\n",
       "<style scoped>\n",
       "    .dataframe tbody tr th:only-of-type {\n",
       "        vertical-align: middle;\n",
       "    }\n",
       "\n",
       "    .dataframe tbody tr th {\n",
       "        vertical-align: top;\n",
       "    }\n",
       "\n",
       "    .dataframe thead th {\n",
       "        text-align: right;\n",
       "    }\n",
       "</style>\n",
       "<table border=\"1\" class=\"dataframe\">\n",
       "  <thead>\n",
       "    <tr style=\"text-align: right;\">\n",
       "      <th></th>\n",
       "      <th>index</th>\n",
       "      <th>text</th>\n",
       "      <th>labels</th>\n",
       "      <th>morgan_fingerprints</th>\n",
       "    </tr>\n",
       "  </thead>\n",
       "  <tbody>\n",
       "    <tr>\n",
       "      <th>0</th>\n",
       "      <td>81</td>\n",
       "      <td>N#Cc1ccccc1P(c1ccccc1)c1ccccc1</td>\n",
       "      <td>-0.815128</td>\n",
       "      <td>[0.0, 0.0, 0.0, 0.0, 0.0, 0.0, 0.0, 0.0, 0.0, ...</td>\n",
       "    </tr>\n",
       "    <tr>\n",
       "      <th>1</th>\n",
       "      <td>25</td>\n",
       "      <td>COc1ccc(OC)c(c1P(c2cc(cc(c2)C(F)(F)F)C(F)(F)F)...</td>\n",
       "      <td>-0.777178</td>\n",
       "      <td>[0.0, 1.0, 0.0, 0.0, 0.0, 0.0, 0.0, 0.0, 0.0, ...</td>\n",
       "    </tr>\n",
       "    <tr>\n",
       "      <th>2</th>\n",
       "      <td>83</td>\n",
       "      <td>OCP(CO)CO</td>\n",
       "      <td>-0.815128</td>\n",
       "      <td>[0.0, 0.0, 0.0, 0.0, 0.0, 0.0, 0.0, 0.0, 0.0, ...</td>\n",
       "    </tr>\n",
       "    <tr>\n",
       "      <th>3</th>\n",
       "      <td>63</td>\n",
       "      <td>CC(C)(C)P(c1ccccc1-n2nc(cc2-c3ccccc3)-c4ccccc4...</td>\n",
       "      <td>-0.739227</td>\n",
       "      <td>[0.0, 0.0, 0.0, 0.0, 0.0, 0.0, 0.0, 0.0, 0.0, ...</td>\n",
       "    </tr>\n",
       "    <tr>\n",
       "      <th>4</th>\n",
       "      <td>6</td>\n",
       "      <td>CC(C)(C)CP(C(C)(C)C)C(C)(C)C</td>\n",
       "      <td>-0.777178</td>\n",
       "      <td>[0.0, 0.0, 0.0, 0.0, 0.0, 0.0, 0.0, 0.0, 0.0, ...</td>\n",
       "    </tr>\n",
       "  </tbody>\n",
       "</table>\n",
       "</div>"
      ],
      "text/plain": [
       "   index                                               text    labels  \\\n",
       "0     81                     N#Cc1ccccc1P(c1ccccc1)c1ccccc1 -0.815128   \n",
       "1     25  COc1ccc(OC)c(c1P(c2cc(cc(c2)C(F)(F)F)C(F)(F)F)... -0.777178   \n",
       "2     83                                          OCP(CO)CO -0.815128   \n",
       "3     63  CC(C)(C)P(c1ccccc1-n2nc(cc2-c3ccccc3)-c4ccccc4... -0.739227   \n",
       "4      6                       CC(C)(C)CP(C(C)(C)C)C(C)(C)C -0.777178   \n",
       "\n",
       "                                 morgan_fingerprints  \n",
       "0  [0.0, 0.0, 0.0, 0.0, 0.0, 0.0, 0.0, 0.0, 0.0, ...  \n",
       "1  [0.0, 1.0, 0.0, 0.0, 0.0, 0.0, 0.0, 0.0, 0.0, ...  \n",
       "2  [0.0, 0.0, 0.0, 0.0, 0.0, 0.0, 0.0, 0.0, 0.0, ...  \n",
       "3  [0.0, 0.0, 0.0, 0.0, 0.0, 0.0, 0.0, 0.0, 0.0, ...  \n",
       "4  [0.0, 0.0, 0.0, 0.0, 0.0, 0.0, 0.0, 0.0, 0.0, ...  "
      ]
     },
     "execution_count": 259,
     "metadata": {},
     "output_type": "execute_result"
    }
   ],
   "source": [
    "remover = SaltRemover(defnData=\"[Cl,Br]\")\n",
    "morgan_list, mol_list_none = [], []\n",
    "mol_list = []\n",
    "\n",
    "for i,smiles in enumerate(train_df['text']):\n",
    "    d1 = MolFromSmiles(smiles)\n",
    "    if d1 is None:\n",
    "        mol_list_none.append(i)\n",
    "    else:\n",
    "        d2 = remover.StripMol(d1)\n",
    "        mol_list.append(d2)\n",
    "        f1 = AllChem.GetMorganFingerprintAsBitVect(d2,2,nBits=1024)\n",
    "        arr = np.zeros((1,))\n",
    "        DataStructs.ConvertToNumpyArray(f1, arr)\n",
    "#         print(arr)\n",
    "        if any(np.isnan(arr)):\n",
    "            mol_list_none.append(i)\n",
    "        else:\n",
    "            morgan_list.append(arr)\n",
    "            \n",
    "train_df = train_df.drop(mol_list_none)\n",
    "train_df[\"morgan_fingerprints\"] = morgan_list\n",
    "train_df = train_df.reset_index()\n",
    "\n",
    "train_df.head()"
   ]
  },
  {
   "cell_type": "code",
   "execution_count": 260,
   "metadata": {},
   "outputs": [
    {
     "data": {
      "text/html": [
       "<div>\n",
       "<style scoped>\n",
       "    .dataframe tbody tr th:only-of-type {\n",
       "        vertical-align: middle;\n",
       "    }\n",
       "\n",
       "    .dataframe tbody tr th {\n",
       "        vertical-align: top;\n",
       "    }\n",
       "\n",
       "    .dataframe thead th {\n",
       "        text-align: right;\n",
       "    }\n",
       "</style>\n",
       "<table border=\"1\" class=\"dataframe\">\n",
       "  <thead>\n",
       "    <tr style=\"text-align: right;\">\n",
       "      <th></th>\n",
       "      <th>index</th>\n",
       "      <th>text</th>\n",
       "      <th>labels</th>\n",
       "      <th>morgan_fingerprints</th>\n",
       "    </tr>\n",
       "  </thead>\n",
       "  <tbody>\n",
       "  </tbody>\n",
       "</table>\n",
       "</div>"
      ],
      "text/plain": [
       "Empty DataFrame\n",
       "Columns: [index, text, labels, morgan_fingerprints]\n",
       "Index: []"
      ]
     },
     "execution_count": 260,
     "metadata": {},
     "output_type": "execute_result"
    }
   ],
   "source": [
    "remover = SaltRemover(defnData=\"[Cl,Br]\")\n",
    "morgan_list, mol_list_none = [], []\n",
    "mol_list = []\n",
    "\n",
    "for i,smiles in enumerate(valid_df['text']):\n",
    "    d1 = MolFromSmiles(smiles)\n",
    "    if d1 is None:\n",
    "        mol_list_none.append(i)\n",
    "    else:\n",
    "        d2 = remover.StripMol(d1)\n",
    "        mol_list.append(d2)\n",
    "        f1 = AllChem.GetMorganFingerprintAsBitVect(d2,2,nBits=1024)\n",
    "        arr = np.zeros((1,))\n",
    "        DataStructs.ConvertToNumpyArray(f1, arr)\n",
    "#         print(arr)\n",
    "        if any(np.isnan(arr)):\n",
    "            mol_list_none.append(i)\n",
    "        else:\n",
    "            morgan_list.append(arr)\n",
    "            \n",
    "valid_df = valid_df.drop(mol_list_none)\n",
    "valid_df[\"morgan_fingerprints\"] = morgan_list\n",
    "valid_df = valid_df.reset_index()\n",
    "\n",
    "valid_df.head()"
   ]
  },
  {
   "cell_type": "code",
   "execution_count": 261,
   "metadata": {},
   "outputs": [
    {
     "data": {
      "text/html": [
       "<div>\n",
       "<style scoped>\n",
       "    .dataframe tbody tr th:only-of-type {\n",
       "        vertical-align: middle;\n",
       "    }\n",
       "\n",
       "    .dataframe tbody tr th {\n",
       "        vertical-align: top;\n",
       "    }\n",
       "\n",
       "    .dataframe thead th {\n",
       "        text-align: right;\n",
       "    }\n",
       "</style>\n",
       "<table border=\"1\" class=\"dataframe\">\n",
       "  <thead>\n",
       "    <tr style=\"text-align: right;\">\n",
       "      <th></th>\n",
       "      <th>index</th>\n",
       "      <th>text</th>\n",
       "      <th>labels</th>\n",
       "      <th>morgan_fingerprints</th>\n",
       "    </tr>\n",
       "  </thead>\n",
       "  <tbody>\n",
       "    <tr>\n",
       "      <th>0</th>\n",
       "      <td>28</td>\n",
       "      <td>N#CCCP(CCC#N)CCC#N</td>\n",
       "      <td>-0.815128</td>\n",
       "      <td>[0.0, 0.0, 0.0, 0.0, 0.0, 0.0, 0.0, 0.0, 0.0, ...</td>\n",
       "    </tr>\n",
       "    <tr>\n",
       "      <th>1</th>\n",
       "      <td>17</td>\n",
       "      <td>c1ccc(P(C2CCCCC2)C2CCCCC2)cc1</td>\n",
       "      <td>0.778781</td>\n",
       "      <td>[0.0, 0.0, 1.0, 0.0, 1.0, 0.0, 0.0, 0.0, 0.0, ...</td>\n",
       "    </tr>\n",
       "    <tr>\n",
       "      <th>2</th>\n",
       "      <td>55</td>\n",
       "      <td>CC(C)CP(CC(C)C)CC(C)C</td>\n",
       "      <td>1.044433</td>\n",
       "      <td>[0.0, 1.0, 0.0, 0.0, 0.0, 0.0, 0.0, 0.0, 0.0, ...</td>\n",
       "    </tr>\n",
       "    <tr>\n",
       "      <th>3</th>\n",
       "      <td>52</td>\n",
       "      <td>C1N2CN3CN1CP(C2)C3</td>\n",
       "      <td>-0.815128</td>\n",
       "      <td>[0.0, 0.0, 0.0, 0.0, 0.0, 0.0, 0.0, 0.0, 0.0, ...</td>\n",
       "    </tr>\n",
       "    <tr>\n",
       "      <th>4</th>\n",
       "      <td>75</td>\n",
       "      <td>C1[C@@H]2C[C@@H]3C[C@H]1C[C@](C2)(C3)P(c4ccnn4...</td>\n",
       "      <td>-0.739227</td>\n",
       "      <td>[0.0, 0.0, 0.0, 0.0, 0.0, 0.0, 0.0, 0.0, 0.0, ...</td>\n",
       "    </tr>\n",
       "  </tbody>\n",
       "</table>\n",
       "</div>"
      ],
      "text/plain": [
       "   index                                               text    labels  \\\n",
       "0     28                                 N#CCCP(CCC#N)CCC#N -0.815128   \n",
       "1     17                      c1ccc(P(C2CCCCC2)C2CCCCC2)cc1  0.778781   \n",
       "2     55                              CC(C)CP(CC(C)C)CC(C)C  1.044433   \n",
       "3     52                                 C1N2CN3CN1CP(C2)C3 -0.815128   \n",
       "4     75  C1[C@@H]2C[C@@H]3C[C@H]1C[C@](C2)(C3)P(c4ccnn4... -0.739227   \n",
       "\n",
       "                                 morgan_fingerprints  \n",
       "0  [0.0, 0.0, 0.0, 0.0, 0.0, 0.0, 0.0, 0.0, 0.0, ...  \n",
       "1  [0.0, 0.0, 1.0, 0.0, 1.0, 0.0, 0.0, 0.0, 0.0, ...  \n",
       "2  [0.0, 1.0, 0.0, 0.0, 0.0, 0.0, 0.0, 0.0, 0.0, ...  \n",
       "3  [0.0, 0.0, 0.0, 0.0, 0.0, 0.0, 0.0, 0.0, 0.0, ...  \n",
       "4  [0.0, 0.0, 0.0, 0.0, 0.0, 0.0, 0.0, 0.0, 0.0, ...  "
      ]
     },
     "execution_count": 261,
     "metadata": {},
     "output_type": "execute_result"
    }
   ],
   "source": [
    "remover = SaltRemover(defnData=\"[Cl,Br]\")\n",
    "morgan_list, mol_list_none = [], []\n",
    "mol_list = []\n",
    "\n",
    "for i,smiles in enumerate(test_df['text']):\n",
    "    d1 = MolFromSmiles(smiles)\n",
    "    if d1 is None:\n",
    "        mol_list_none.append(i)\n",
    "    else:\n",
    "        d2 = remover.StripMol(d1)\n",
    "        mol_list.append(d2)\n",
    "        f1 = AllChem.GetMorganFingerprintAsBitVect(d2,2,nBits=1024)\n",
    "        arr = np.zeros((1,))\n",
    "        DataStructs.ConvertToNumpyArray(f1, arr)\n",
    "#         print(arr)\n",
    "        if any(np.isnan(arr)):\n",
    "            mol_list_none.append(i)\n",
    "        else:\n",
    "            morgan_list.append(arr)\n",
    "            \n",
    "test_df = test_df.drop(mol_list_none)\n",
    "test_df[\"morgan_fingerprints\"] = morgan_list\n",
    "test_df = test_df.reset_index()\n",
    "\n",
    "test_df.head()"
   ]
  },
  {
   "cell_type": "code",
   "execution_count": 262,
   "metadata": {},
   "outputs": [],
   "source": [
    "X_train = train_df['morgan_fingerprints'].tolist()\n",
    "y_train = train_df['labels'].tolist()\n",
    "\n",
    "X_valid = valid_df['morgan_fingerprints'].tolist()\n",
    "y_valid = valid_df['labels'].tolist()\n",
    "\n",
    "X_test = test_df['morgan_fingerprints'].tolist()\n",
    "y_test = test_df['labels'].tolist()\n",
    "\n",
    "df_entire_x  = X_train + X_test\n",
    "df_entire_y = y_train + y_test\n"
   ]
  },
  {
   "cell_type": "code",
   "execution_count": 263,
   "metadata": {},
   "outputs": [
    {
     "name": "stdout",
     "output_type": "stream",
     "text": [
      "-0.8151279170082893 <class 'float'>\n"
     ]
    }
   ],
   "source": [
    "print(y_train[0], type(y_train[0]))"
   ]
  },
  {
   "cell_type": "markdown",
   "metadata": {},
   "source": [
    "# Decision Tree Model"
   ]
  },
  {
   "cell_type": "code",
   "execution_count": 264,
   "metadata": {},
   "outputs": [
    {
     "data": {
      "text/plain": [
       "DecisionTreeClassifier(criterion='entropy')"
      ]
     },
     "execution_count": 264,
     "metadata": {},
     "output_type": "execute_result"
    }
   ],
   "source": [
    "from sklearn.tree import DecisionTreeClassifier\n",
    "Dt_clf = DecisionTreeClassifier(criterion = 'entropy')\n",
    "y_train_dt = pd.cut(train_df.labels,bins=[-1,-0.5,0,0.5,1,5],labels=['Very Low','Low','Mediium','High','Very High'])\n",
    "y_test_dt = pd.cut(test_df.labels,bins=[-1,-0.5,0,0.5,1,5],labels=['Very Low','Low','Mediium','High','Very High'])\n",
    "\n",
    "Dt_clf.fit(X_train, y_train_dt)"
   ]
  },
  {
   "cell_type": "code",
   "execution_count": 265,
   "metadata": {},
   "outputs": [
    {
     "name": "stdout",
     "output_type": "stream",
     "text": [
      "Accuracy Score on train data:  1.0\n",
      "Accuracy Score on test data:  0.5263157894736842\n"
     ]
    }
   ],
   "source": [
    "from sklearn.metrics import accuracy_score\n",
    "print('Accuracy Score on train data: ', accuracy_score(y_true=y_train_dt, y_pred=Dt_clf.predict(X_train)))\n",
    "print('Accuracy Score on test data: ', accuracy_score(y_true=y_test_dt, y_pred=Dt_clf.predict(X_test)))"
   ]
  },
  {
   "cell_type": "code",
   "execution_count": 266,
   "metadata": {},
   "outputs": [
    {
     "data": {
      "text/plain": [
       "DecisionTreeRegressor(max_depth=6)"
      ]
     },
     "execution_count": 266,
     "metadata": {},
     "output_type": "execute_result"
    }
   ],
   "source": [
    "from sklearn.tree import DecisionTreeRegressor\n",
    "Dt_reg = DecisionTreeRegressor(max_depth = 6)\n",
    "Dt_reg.fit(X_train, y_train)"
   ]
  },
  {
   "cell_type": "code",
   "execution_count": 267,
   "metadata": {},
   "outputs": [
    {
     "name": "stdout",
     "output_type": "stream",
     "text": [
      "Training set RMSE: 0.4825493668066398\n",
      "Test set RMSE: 0.7332420399287621\n"
     ]
    }
   ],
   "source": [
    "Dt_reg_predictions = Dt_reg.predict(X_train)\n",
    "Dt_reg_mse = mean_squared_error(y_train, Dt_reg_predictions)\n",
    "Dt_reg_rmse = np.sqrt(Dt_reg_mse)\n",
    "print(\"Training set RMSE:\",Dt_reg_rmse)\n",
    "\n",
    "Dt_reg_predictions2 = Dt_reg.predict(X_test)\n",
    "Dt_reg_mse2 = mean_squared_error(y_test, Dt_reg_predictions2)\n",
    "Dt_reg_rmse2 = np.sqrt(Dt_reg_mse2)\n",
    "print(\"Test set RMSE:\",Dt_reg_rmse2)"
   ]
  },
  {
   "cell_type": "code",
   "execution_count": 268,
   "metadata": {},
   "outputs": [
    {
     "name": "stdout",
     "output_type": "stream",
     "text": [
      "Training set R^2: 0.7638196244315754\n",
      "Test set R^2: -0.026084134254301006\n"
     ]
    }
   ],
   "source": [
    "r2_score2=r2_score(y_train, Dt_reg_predictions)\n",
    "print(\"Training set R^2:\",r2_score2)\n",
    "r2_score3=r2_score(y_test, Dt_reg_predictions2)\n",
    "print(\"Test set R^2:\",r2_score3)"
   ]
  },
  {
   "cell_type": "code",
   "execution_count": 269,
   "metadata": {},
   "outputs": [
    {
     "name": "stdout",
     "output_type": "stream",
     "text": [
      "Cross Validation Score: [-2.10544528 -0.11848367 -0.23292553  0.05821159 -0.05766298]\n"
     ]
    }
   ],
   "source": [
    "cvd_scores = cross_val_score(Dt_reg, df_entire_x, df_entire_y,cv=5)\n",
    "print('Cross Validation Score:',cvd_scores)"
   ]
  },
  {
   "cell_type": "markdown",
   "metadata": {},
   "source": [
    "# Random Forest Model"
   ]
  },
  {
   "cell_type": "code",
   "execution_count": 270,
   "metadata": {},
   "outputs": [
    {
     "data": {
      "text/plain": [
       "RandomForestRegressor(max_features=0.8, min_impurity_decrease=0,\n",
       "                      n_estimators=500)"
      ]
     },
     "execution_count": 270,
     "metadata": {},
     "output_type": "execute_result"
    }
   ],
   "source": [
    "from sklearn.ensemble import RandomForestRegressor\n",
    "\n",
    "RF_clf = RandomForestRegressor(max_features=0.8,min_impurity_decrease=0,min_samples_leaf=1,n_estimators=500)\n",
    "RF_clf.fit(X_train, y_train)"
   ]
  },
  {
   "cell_type": "code",
   "execution_count": 271,
   "metadata": {
    "scrolled": true
   },
   "outputs": [
    {
     "name": "stdout",
     "output_type": "stream",
     "text": [
      "Training set RMSE: 0.3461060339788231\n",
      "Test set RMSE: 0.5480489380102775\n"
     ]
    }
   ],
   "source": [
    "forest_predictions = RF_clf.predict(X_train)\n",
    "forest_mse = mean_squared_error(y_train, forest_predictions)\n",
    "forest_rmse = np.sqrt(forest_mse)\n",
    "print(\"Training set RMSE:\",forest_rmse)\n",
    "\n",
    "forest_predictions2 = RF_clf.predict(X_test)\n",
    "forest_mse2 = mean_squared_error(y_test, forest_predictions2)\n",
    "forest_rmse2 = np.sqrt(forest_mse2)\n",
    "print(\"Test set RMSE:\",forest_rmse2)\n"
   ]
  },
  {
   "cell_type": "code",
   "execution_count": 272,
   "metadata": {},
   "outputs": [
    {
     "name": "stdout",
     "output_type": "stream",
     "text": [
      "Training set R^2: 0.8784993362897847\n",
      "Test set R^2: 0.4267726023539259\n"
     ]
    }
   ],
   "source": [
    "r2_score2=r2_score(y_train, forest_predictions)\n",
    "print(\"Training set R^2:\",r2_score2)\n",
    "r2_score3=r2_score(y_test, forest_predictions2)\n",
    "print(\"Test set R^2:\",r2_score3)"
   ]
  },
  {
   "cell_type": "code",
   "execution_count": 273,
   "metadata": {},
   "outputs": [
    {
     "name": "stdout",
     "output_type": "stream",
     "text": [
      "Cross Validation Score: [-1.41463565 -0.01967486  0.41891495 -0.03590628  0.35762552]\n"
     ]
    }
   ],
   "source": [
    "cvd_scores = cross_val_score(RF_clf, df_entire_x, df_entire_y, cv=5)\n",
    "print('Cross Validation Score:',cvd_scores)"
   ]
  },
  {
   "cell_type": "markdown",
   "metadata": {},
   "source": [
    "# Linear Regression"
   ]
  },
  {
   "cell_type": "code",
   "execution_count": 274,
   "metadata": {},
   "outputs": [],
   "source": [
    "from sklearn.linear_model import LinearRegression\n",
    "reg = LinearRegression().fit(X_train, y_train)"
   ]
  },
  {
   "cell_type": "code",
   "execution_count": 275,
   "metadata": {},
   "outputs": [
    {
     "name": "stdout",
     "output_type": "stream",
     "text": [
      "Training set RMSE: 0.20215136986223642\n",
      "Test set RMSE: 6270889543737.121\n",
      "Training set R^2: 0.958551035429433\n",
      "Test set R^2: -7.504928528694237e+25\n"
     ]
    }
   ],
   "source": [
    "reg_predictions = reg.predict(X_train)\n",
    "reg_mse = mean_squared_error(y_train, reg_predictions)\n",
    "reg_rmse = np.sqrt(reg_mse)\n",
    "print(\"Training set RMSE:\",reg_rmse)\n",
    "\n",
    "reg_predictions2 = reg.predict(X_test)\n",
    "reg_mse2 = mean_squared_error(y_test, reg_predictions2)\n",
    "reg_rmse2 = np.sqrt(reg_mse2)\n",
    "print(\"Test set RMSE:\",reg_rmse2)\n",
    "\n",
    "\n",
    "regr2_score2=r2_score(y_train, reg_predictions)\n",
    "print(\"Training set R^2:\",regr2_score2)\n",
    "regr2_score3=r2_score(y_test, reg_predictions2)\n",
    "print(\"Test set R^2:\",regr2_score3)"
   ]
  },
  {
   "cell_type": "code",
   "execution_count": 276,
   "metadata": {},
   "outputs": [
    {
     "name": "stdout",
     "output_type": "stream",
     "text": [
      "Cross Validation Score: [-4.73097578e+26 -1.24777050e+24 -3.68662905e+22 -1.31943119e+26\n",
      " -1.63268700e+26]\n"
     ]
    }
   ],
   "source": [
    "cvd_scores = cross_val_score(reg, df_entire_x, df_entire_y, cv=5)\n",
    "print('Cross Validation Score:',cvd_scores)"
   ]
  },
  {
   "cell_type": "markdown",
   "metadata": {},
   "source": [
    "# XG Boost"
   ]
  },
  {
   "cell_type": "code",
   "execution_count": 277,
   "metadata": {},
   "outputs": [
    {
     "name": "stdout",
     "output_type": "stream",
     "text": [
      "[21:15:26] WARNING: c:\\windows\\temp\\abs_557yfx631l\\croots\\recipe\\xgboost-split_1659548953302\\work\\src\\objective\\regression_obj.cu:188: reg:linear is now deprecated in favor of reg:squarederror.\n"
     ]
    },
    {
     "data": {
      "text/plain": [
       "XGBRegressor(base_score=0.5, booster='gbtree', colsample_bylevel=1,\n",
       "             colsample_bynode=1, colsample_bytree=1, enable_categorical=False,\n",
       "             gamma=0, gpu_id=-1, importance_type=None,\n",
       "             interaction_constraints='', learning_rate=0.200000012,\n",
       "             max_delta_step=0, max_depth=3, min_child_weight=1, missing=nan,\n",
       "             monotone_constraints='()', n_estimators=100, n_jobs=16,\n",
       "             num_parallel_tree=1, objective='reg:linear', predictor='auto',\n",
       "             random_state=4, reg_alpha=0, reg_lambda=1, scale_pos_weight=1,\n",
       "             subsample=1, tree_method='exact', validate_parameters=1,\n",
       "             verbosity=None)"
      ]
     },
     "execution_count": 277,
     "metadata": {},
     "output_type": "execute_result"
    }
   ],
   "source": [
    "import xgboost as xgb\n",
    "\n",
    "xgb_model = xgb.XGBRegressor(base_score=0.5, booster='gbtree', colsample_bylevel=1,\n",
    "             colsample_bynode=1, colsample_bytree=1, enable_categorical=False,\n",
    "             gamma=0, gpu_id=-1, importance_type=None,\n",
    "             interaction_constraints='', learning_rate=0.200000012,\n",
    "             max_delta_step=0, max_depth=3, min_child_weight=1, \n",
    "             monotone_constraints='()', n_estimators=100, n_jobs=16,\n",
    "             num_parallel_tree=1, objective='reg:linear', predictor='auto',\n",
    "             random_state=4, reg_alpha=0, reg_lambda=1, scale_pos_weight=1,\n",
    "             subsample=1, tree_method='exact', validate_parameters=1,\n",
    "             verbosity=None)\n",
    "xgb_model.fit(X_train, y_train)"
   ]
  },
  {
   "cell_type": "code",
   "execution_count": 278,
   "metadata": {},
   "outputs": [
    {
     "name": "stdout",
     "output_type": "stream",
     "text": [
      "Training set RMSE: 0.13056624712991313\n",
      "Test set RMSE: 0.42224819442177164\n",
      "Training set R^2: 0.9827089187548449\n",
      "Test set R^2: 0.659729843547362\n"
     ]
    }
   ],
   "source": [
    "xgb_predictions = xgb_model.predict(X_train)\n",
    "xgb_mse = mean_squared_error(y_train, xgb_predictions)\n",
    "xgb_rmse = np.sqrt(xgb_mse)\n",
    "print(\"Training set RMSE:\",xgb_rmse)\n",
    "\n",
    "xgb_predictions2 = xgb_model.predict(X_test)\n",
    "xgb_mse2 = mean_squared_error(y_test, xgb_predictions2)\n",
    "xgb_rmse2 = np.sqrt(xgb_mse2)\n",
    "print(\"Test set RMSE:\",xgb_rmse2)\n",
    "\n",
    "\n",
    "xgbr2_score2=r2_score(y_train, xgb_predictions)\n",
    "print(\"Training set R^2:\",xgbr2_score2)\n",
    "xgbr2_score3=r2_score(y_test, xgb_predictions2)\n",
    "print(\"Test set R^2:\",xgbr2_score3)"
   ]
  },
  {
   "cell_type": "code",
   "execution_count": 309,
   "metadata": {},
   "outputs": [
    {
     "data": {
      "image/png": "[encoded data removed]",
      "text/plain": [
       "<Figure size 432x288 with 1 Axes>"
      ]
     },
     "metadata": {
      "needs_background": "light"
     },
     "output_type": "display_data"
    }
   ],
   "source": [
    "import matplotlib.pyplot as plt\n",
    "plt.plot(xgb_predictions2,'g*', y_test, 'ro')\n",
    "plt.show()"
   ]
  },
  {
   "cell_type": "code",
   "execution_count": 279,
   "metadata": {},
   "outputs": [
    {
     "name": "stdout",
     "output_type": "stream",
     "text": [
      "[21:15:26] WARNING: c:\\windows\\temp\\abs_557yfx631l\\croots\\recipe\\xgboost-split_1659548953302\\work\\src\\objective\\regression_obj.cu:188: reg:linear is now deprecated in favor of reg:squarederror.\n",
      "[21:15:26] WARNING: c:\\windows\\temp\\abs_557yfx631l\\croots\\recipe\\xgboost-split_1659548953302\\work\\src\\objective\\regression_obj.cu:188: reg:linear is now deprecated in favor of reg:squarederror.\n",
      "[21:15:26] WARNING: c:\\windows\\temp\\abs_557yfx631l\\croots\\recipe\\xgboost-split_1659548953302\\work\\src\\objective\\regression_obj.cu:188: reg:linear is now deprecated in favor of reg:squarederror.\n",
      "[21:15:26] WARNING: c:\\windows\\temp\\abs_557yfx631l\\croots\\recipe\\xgboost-split_1659548953302\\work\\src\\objective\\regression_obj.cu:188: reg:linear is now deprecated in favor of reg:squarederror.\n",
      "[21:15:26] WARNING: c:\\windows\\temp\\abs_557yfx631l\\croots\\recipe\\xgboost-split_1659548953302\\work\\src\\objective\\regression_obj.cu:188: reg:linear is now deprecated in favor of reg:squarederror.\n",
      "Cross Validation Score: [-2.02150652 -0.067049    0.53222975  0.1290671   0.61107645]\n"
     ]
    }
   ],
   "source": [
    "cvd_scores = cross_val_score(xgb_model, df_entire_x, df_entire_y, cv=5)\n",
    "print('Cross Validation Score:',cvd_scores)"
   ]
  },
  {
   "cell_type": "markdown",
   "metadata": {},
   "source": [
    "# Cross Validation"
   ]
  },
  {
   "cell_type": "code",
   "execution_count": 330,
   "metadata": {},
   "outputs": [],
   "source": [
    "def evaluate_model_of_n_features(train_x,train_y,test_x,test_y,model):\n",
    "    predictions = model.predict(train_x)\n",
    "    mse = mean_squared_error(train_y, predictions)\n",
    "    rmse = np.sqrt(mse)\n",
    "\n",
    "    predictions2 = model.predict(test_x)\n",
    "    mse2 = mean_squared_error(test_y, predictions2)\n",
    "    rmse2 = np.sqrt(mse2)\n",
    "\n",
    "\n",
    "    score2=r2_score(train_y, predictions)\n",
    "    score3=r2_score(test_y, predictions2)\n",
    "    plt.plot(predictions2,'g*', test_y, 'ro')\n",
    "    plt.show()\n",
    "    return rmse, rmse2, score2, score3"
   ]
  },
  {
   "cell_type": "code",
   "execution_count": 331,
   "metadata": {},
   "outputs": [],
   "source": [
    "def fold_5_cross_validation_for_stream(df_x,df_y,model):\n",
    "    train_x = df_x[:(int((len(df_x)*0.79)))]\n",
    "    train_y = df_y[:(int((len(df_x)*0.79)))]\n",
    "    test_x = df_x[(int((len(df_x)*0.79))):]\n",
    "    test_y = df_y[(int((len(df_x)*0.79))):]\n",
    "    model.fit(train_x, train_y)\n",
    "    #print('Intercept:',Intercept,', Coefficient: ',Coefficients)\n",
    "    train_rmse, test_rmse, train_r2,test_r2 = evaluate_model_of_n_features(train_x,train_y,test_x,test_y,model)\n",
    "    #print('Training set RMSE:',train_rmse, '\\nTest set RMSE: ',test_rmse, '\\nTraining set R^2:',train_r2, '\\nTest set R^2: ',test_r2 )\n",
    "    cvd_scores = cross_val_score(model, df_x, df_y, cv=5)\n",
    "    sum_cvd = sum(cvd_scores)\n",
    "    print('5 fold Cross Validation score: ',sum_cvd)\n",
    "    return sum_cvd"
   ]
  },
  {
   "cell_type": "code",
   "execution_count": 337,
   "metadata": {},
   "outputs": [
    {
     "data": {
      "image/png": "[encoded data removed]",
      "text/plain": [
       "<Figure size 432x288 with 1 Axes>"
      ]
     },
     "metadata": {
      "needs_background": "light"
     },
     "output_type": "display_data"
    },
    {
     "name": "stdout",
     "output_type": "stream",
     "text": [
      "5 fold Cross Validation score:  -0.07176478442227074\n"
     ]
    },
    {
     "data": {
      "image/png": "[encoded data removed]",
      "text/plain": [
       "<Figure size 432x288 with 1 Axes>"
      ]
     },
     "metadata": {
      "needs_background": "light"
     },
     "output_type": "display_data"
    },
    {
     "name": "stdout",
     "output_type": "stream",
     "text": [
      "5 fold Cross Validation score:  0.6874794831762755\n"
     ]
    },
    {
     "data": {
      "image/png": "[encoded data removed]",
      "text/plain": [
       "<Figure size 432x288 with 1 Axes>"
      ]
     },
     "metadata": {
      "needs_background": "light"
     },
     "output_type": "display_data"
    },
    {
     "name": "stdout",
     "output_type": "stream",
     "text": [
      "5 fold Cross Validation score:  -0.7841036554338509\n"
     ]
    },
    {
     "data": {
      "image/png": "[encoded data removed]",
      "text/plain": [
       "<Figure size 432x288 with 1 Axes>"
      ]
     },
     "metadata": {
      "needs_background": "light"
     },
     "output_type": "display_data"
    },
    {
     "name": "stdout",
     "output_type": "stream",
     "text": [
      "5 fold Cross Validation score:  0.6534398591605031\n"
     ]
    },
    {
     "data": {
      "image/png": "[encoded data removed]",
      "text/plain": [
       "<Figure size 432x288 with 1 Axes>"
      ]
     },
     "metadata": {
      "needs_background": "light"
     },
     "output_type": "display_data"
    },
    {
     "name": "stdout",
     "output_type": "stream",
     "text": [
      "5 fold Cross Validation score:  0.8542091725767327\n"
     ]
    },
    {
     "data": {
      "image/png": "[encoded data removed]",
      "text/plain": [
       "<Figure size 432x288 with 1 Axes>"
      ]
     },
     "metadata": {
      "needs_background": "light"
     },
     "output_type": "display_data"
    },
    {
     "name": "stdout",
     "output_type": "stream",
     "text": [
      "5 fold Cross Validation score:  0.44154190881099586\n"
     ]
    },
    {
     "data": {
      "image/png": "[encoded data removed]",
      "text/plain": [
       "<Figure size 432x288 with 1 Axes>"
      ]
     },
     "metadata": {
      "needs_background": "light"
     },
     "output_type": "display_data"
    },
    {
     "name": "stdout",
     "output_type": "stream",
     "text": [
      "5 fold Cross Validation score:  0.8584479639973809\n"
     ]
    },
    {
     "data": {
      "image/png": "[encoded data removed]",
      "text/plain": [
       "<Figure size 432x288 with 1 Axes>"
      ]
     },
     "metadata": {
      "needs_background": "light"
     },
     "output_type": "display_data"
    },
    {
     "name": "stdout",
     "output_type": "stream",
     "text": [
      "5 fold Cross Validation score:  -0.4752479785118413\n"
     ]
    },
    {
     "data": {
      "image/png": "[encoded data removed]",
      "text/plain": [
       "<Figure size 432x288 with 1 Axes>"
      ]
     },
     "metadata": {
      "needs_background": "light"
     },
     "output_type": "display_data"
    },
    {
     "name": "stdout",
     "output_type": "stream",
     "text": [
      "5 fold Cross Validation score:  -0.8726560796422115\n"
     ]
    },
    {
     "data": {
      "image/png": "[encoded data removed]",
      "text/plain": [
       "<Figure size 432x288 with 1 Axes>"
      ]
     },
     "metadata": {
      "needs_background": "light"
     },
     "output_type": "display_data"
    },
    {
     "name": "stdout",
     "output_type": "stream",
     "text": [
      "5 fold Cross Validation score:  0.5479900308604997\n"
     ]
    },
    {
     "data": {
      "image/png": "[encoded data removed]",
      "text/plain": [
       "<Figure size 432x288 with 1 Axes>"
      ]
     },
     "metadata": {
      "needs_background": "light"
     },
     "output_type": "display_data"
    },
    {
     "name": "stdout",
     "output_type": "stream",
     "text": [
      "5 fold Cross Validation score:  0.6464008165331109\n"
     ]
    },
    {
     "data": {
      "image/png": "[encoded data removed]",
      "text/plain": [
       "<Figure size 432x288 with 1 Axes>"
      ]
     },
     "metadata": {
      "needs_background": "light"
     },
     "output_type": "display_data"
    },
    {
     "name": "stdout",
     "output_type": "stream",
     "text": [
      "5 fold Cross Validation score:  0.41872622854345254\n"
     ]
    },
    {
     "data": {
      "image/png": "[encoded data removed]",
      "text/plain": [
       "<Figure size 432x288 with 1 Axes>"
      ]
     },
     "metadata": {
      "needs_background": "light"
     },
     "output_type": "display_data"
    },
    {
     "name": "stdout",
     "output_type": "stream",
     "text": [
      "5 fold Cross Validation score:  0.7619239958699128\n"
     ]
    },
    {
     "data": {
      "image/png": "[encoded data removed]",
      "text/plain": [
       "<Figure size 432x288 with 1 Axes>"
      ]
     },
     "metadata": {
      "needs_background": "light"
     },
     "output_type": "display_data"
    },
    {
     "name": "stdout",
     "output_type": "stream",
     "text": [
      "5 fold Cross Validation score:  0.9687436800898772\n"
     ]
    }
   ],
   "source": [
    "import random\n",
    "\n",
    "comb1=0\n",
    "comb2=0\n",
    "comb3=0\n",
    "iter = 15\n",
    "\n",
    "for i in range(1,iter):\n",
    "\n",
    "    random.Random(i).shuffle(df_entire_x)\n",
    "    random.Random(i).shuffle(df_entire_y)\n",
    "    #print('x',df_entire_x,'y',df_entire_y)\n",
    "    #comb1 += fold_5_cross_validation_for_stream(df_entire_x,df_entire_y,xgb_model)\n",
    "    #comb2 += fold_5_cross_validation_for_stream(df_entire_x,df_entire_y,Dt_reg)\n",
    "    \n",
    "    comb3 += fold_5_cross_validation_for_stream(df_entire_x,df_entire_y,RF_clf)\n",
    "comb1_avg= comb1/iter/5\n",
    "comb2_avg= comb2/iter/5\n",
    "comb3_avg= comb3/iter/5\n",
    "\n"
   ]
  },
  {
   "cell_type": "code",
   "execution_count": 339,
   "metadata": {},
   "outputs": [
    {
     "name": "stdout",
     "output_type": "stream",
     "text": [
      "0 0 0.061801741888114214\n"
     ]
    }
   ],
   "source": [
    "print(comb1,comb2,comb3_avg)"
   ]
  },
  {
   "cell_type": "markdown",
   "metadata": {},
   "source": [
    "# NN model"
   ]
  },
  {
   "cell_type": "markdown",
   "metadata": {},
   "source": [
    "Re-splitting the data: Train set: 0-71, validation set: 71-81, test set: 81-all"
   ]
  },
  {
   "cell_type": "code",
   "execution_count": 284,
   "metadata": {},
   "outputs": [
    {
     "data": {
      "text/html": [
       "<div>\n",
       "<style scoped>\n",
       "    .dataframe tbody tr th:only-of-type {\n",
       "        vertical-align: middle;\n",
       "    }\n",
       "\n",
       "    .dataframe tbody tr th {\n",
       "        vertical-align: top;\n",
       "    }\n",
       "\n",
       "    .dataframe thead th {\n",
       "        text-align: right;\n",
       "    }\n",
       "</style>\n",
       "<table border=\"1\" class=\"dataframe\">\n",
       "  <thead>\n",
       "    <tr style=\"text-align: right;\">\n",
       "      <th></th>\n",
       "      <th>text</th>\n",
       "      <th>labels</th>\n",
       "    </tr>\n",
       "  </thead>\n",
       "  <tbody>\n",
       "    <tr>\n",
       "      <th>40</th>\n",
       "      <td>CC(C)(C)c1cc(C(C)(C)C)c(-c2cc(-c3c(C(C)(C)C)cc...</td>\n",
       "      <td>-0.402648</td>\n",
       "    </tr>\n",
       "    <tr>\n",
       "      <th>22</th>\n",
       "      <td>COc1ccc(OC)c(c1P(C(C)(C)C)C(C)(C)C)-c2c(cc(cc2...</td>\n",
       "      <td>-0.483291</td>\n",
       "    </tr>\n",
       "    <tr>\n",
       "      <th>55</th>\n",
       "      <td>CC(C)CP(CC(C)C)CC(C)C</td>\n",
       "      <td>1.129572</td>\n",
       "    </tr>\n",
       "    <tr>\n",
       "      <th>70</th>\n",
       "      <td>C1CCC(CC1)P(C2CCCCC2)c3cc4ccccc4n3-c5ccccc5</td>\n",
       "      <td>0.887642</td>\n",
       "    </tr>\n",
       "    <tr>\n",
       "      <th>0</th>\n",
       "      <td>CN(C)C(C=CC=C1N(C)C)=C1C2=CC=CC=C2P(C3CCCCC3)C...</td>\n",
       "      <td>-0.725220</td>\n",
       "    </tr>\n",
       "  </tbody>\n",
       "</table>\n",
       "</div>"
      ],
      "text/plain": [
       "                                                 text    labels\n",
       "40  CC(C)(C)c1cc(C(C)(C)C)c(-c2cc(-c3c(C(C)(C)C)cc... -0.402648\n",
       "22  COc1ccc(OC)c(c1P(C(C)(C)C)C(C)(C)C)-c2c(cc(cc2... -0.483291\n",
       "55                              CC(C)CP(CC(C)C)CC(C)C  1.129572\n",
       "70        C1CCC(CC1)P(C2CCCCC2)c3cc4ccccc4n3-c5ccccc5  0.887642\n",
       "0   CN(C)C(C=CC=C1N(C)C)=C1C2=CC=CC=C2P(C3CCCCC3)C... -0.725220"
      ]
     },
     "execution_count": 284,
     "metadata": {},
     "output_type": "execute_result"
    }
   ],
   "source": [
    "# data\n",
    "import pandas as pd\n",
    "from rdkit import Chem\n",
    "#from rxn_yields.data import generate_buchwald_hartwig_rxns\n",
    "#df = pd.read_excel('../data/Buchwald-Hartwig/Dreher_and_Doyle_input_data.xlsx', sheet_name='FullCV_01')\n",
    "df = pd.read_excel('smc_data.xlsx', sheet_name='SMC')\n",
    "df = df.sample(frac=1,random_state=42)\n",
    "df['rxn'] = df['Smiles']\n",
    "df['ligand_data'] = generate_ligand_data(df)\n",
    "df['Output'] = df['II']\n",
    "\n",
    "train_df = df.iloc[:71][['rxn', 'Output']] \n",
    "valid_df = df.iloc[71:81][['rxn', 'Output']] \n",
    "test_df = df.iloc[81:][['rxn', 'Output']] #\n",
    "\n",
    "train_df.columns = ['text', 'labels']\n",
    "valid_df.columns = ['text', 'labels']\n",
    "test_df.columns = ['text', 'labels']\n",
    "mean = train_df.labels.mean()\n",
    "std = train_df.labels.std()\n",
    "train_df['labels'] = (train_df['labels'] - mean) / std\n",
    "valid_df['labels'] = (valid_df['labels'] - mean) / std\n",
    "test_df['labels'] = (test_df['labels'] - mean) / std\n",
    "train_df.head()"
   ]
  },
  {
   "cell_type": "code",
   "execution_count": 285,
   "metadata": {},
   "outputs": [
    {
     "data": {
      "text/html": [
       "<div>\n",
       "<style scoped>\n",
       "    .dataframe tbody tr th:only-of-type {\n",
       "        vertical-align: middle;\n",
       "    }\n",
       "\n",
       "    .dataframe tbody tr th {\n",
       "        vertical-align: top;\n",
       "    }\n",
       "\n",
       "    .dataframe thead th {\n",
       "        text-align: right;\n",
       "    }\n",
       "</style>\n",
       "<table border=\"1\" class=\"dataframe\">\n",
       "  <thead>\n",
       "    <tr style=\"text-align: right;\">\n",
       "      <th></th>\n",
       "      <th>index</th>\n",
       "      <th>text</th>\n",
       "      <th>labels</th>\n",
       "      <th>morgan_fingerprints</th>\n",
       "    </tr>\n",
       "  </thead>\n",
       "  <tbody>\n",
       "    <tr>\n",
       "      <th>0</th>\n",
       "      <td>40</td>\n",
       "      <td>CC(C)(C)c1cc(C(C)(C)C)c(-c2cc(-c3c(C(C)(C)C)cc...</td>\n",
       "      <td>-0.402648</td>\n",
       "      <td>[0.0, 0.0, 0.0, 0.0, 1.0, 0.0, 0.0, 0.0, 0.0, ...</td>\n",
       "    </tr>\n",
       "    <tr>\n",
       "      <th>1</th>\n",
       "      <td>22</td>\n",
       "      <td>COc1ccc(OC)c(c1P(C(C)(C)C)C(C)(C)C)-c2c(cc(cc2...</td>\n",
       "      <td>-0.483291</td>\n",
       "      <td>[0.0, 1.0, 0.0, 0.0, 0.0, 0.0, 0.0, 0.0, 0.0, ...</td>\n",
       "    </tr>\n",
       "    <tr>\n",
       "      <th>2</th>\n",
       "      <td>55</td>\n",
       "      <td>CC(C)CP(CC(C)C)CC(C)C</td>\n",
       "      <td>1.129572</td>\n",
       "      <td>[0.0, 1.0, 0.0, 0.0, 0.0, 0.0, 0.0, 0.0, 0.0, ...</td>\n",
       "    </tr>\n",
       "    <tr>\n",
       "      <th>3</th>\n",
       "      <td>70</td>\n",
       "      <td>C1CCC(CC1)P(C2CCCCC2)c3cc4ccccc4n3-c5ccccc5</td>\n",
       "      <td>0.887642</td>\n",
       "      <td>[0.0, 0.0, 1.0, 0.0, 1.0, 0.0, 0.0, 0.0, 0.0, ...</td>\n",
       "    </tr>\n",
       "    <tr>\n",
       "      <th>4</th>\n",
       "      <td>0</td>\n",
       "      <td>CN(C)C(C=CC=C1N(C)C)=C1C2=CC=CC=C2P(C3CCCCC3)C...</td>\n",
       "      <td>-0.725220</td>\n",
       "      <td>[0.0, 0.0, 1.0, 0.0, 1.0, 0.0, 0.0, 0.0, 0.0, ...</td>\n",
       "    </tr>\n",
       "  </tbody>\n",
       "</table>\n",
       "</div>"
      ],
      "text/plain": [
       "   index                                               text    labels  \\\n",
       "0     40  CC(C)(C)c1cc(C(C)(C)C)c(-c2cc(-c3c(C(C)(C)C)cc... -0.402648   \n",
       "1     22  COc1ccc(OC)c(c1P(C(C)(C)C)C(C)(C)C)-c2c(cc(cc2... -0.483291   \n",
       "2     55                              CC(C)CP(CC(C)C)CC(C)C  1.129572   \n",
       "3     70        C1CCC(CC1)P(C2CCCCC2)c3cc4ccccc4n3-c5ccccc5  0.887642   \n",
       "4      0  CN(C)C(C=CC=C1N(C)C)=C1C2=CC=CC=C2P(C3CCCCC3)C... -0.725220   \n",
       "\n",
       "                                 morgan_fingerprints  \n",
       "0  [0.0, 0.0, 0.0, 0.0, 1.0, 0.0, 0.0, 0.0, 0.0, ...  \n",
       "1  [0.0, 1.0, 0.0, 0.0, 0.0, 0.0, 0.0, 0.0, 0.0, ...  \n",
       "2  [0.0, 1.0, 0.0, 0.0, 0.0, 0.0, 0.0, 0.0, 0.0, ...  \n",
       "3  [0.0, 0.0, 1.0, 0.0, 1.0, 0.0, 0.0, 0.0, 0.0, ...  \n",
       "4  [0.0, 0.0, 1.0, 0.0, 1.0, 0.0, 0.0, 0.0, 0.0, ...  "
      ]
     },
     "execution_count": 285,
     "metadata": {},
     "output_type": "execute_result"
    }
   ],
   "source": [
    "remover = SaltRemover(defnData=\"[Cl,Br]\")\n",
    "morgan_list, mol_list_none = [], []\n",
    "mol_list = []\n",
    "\n",
    "for i,smiles in enumerate(train_df['text']):\n",
    "    d1 = MolFromSmiles(smiles)\n",
    "    if d1 is None:\n",
    "        mol_list_none.append(i)\n",
    "    else:\n",
    "        d2 = remover.StripMol(d1)\n",
    "        mol_list.append(d2)\n",
    "        f1 = AllChem.GetMorganFingerprintAsBitVect(d2,2,nBits=1024)\n",
    "        arr = np.zeros((1,))\n",
    "        DataStructs.ConvertToNumpyArray(f1, arr)\n",
    "#         print(arr)\n",
    "        if any(np.isnan(arr)):\n",
    "            mol_list_none.append(i)\n",
    "        else:\n",
    "            morgan_list.append(arr)\n",
    "            \n",
    "train_df = train_df.drop(mol_list_none)\n",
    "train_df[\"morgan_fingerprints\"] = morgan_list\n",
    "train_df = train_df.reset_index()\n",
    "\n",
    "train_df.head()"
   ]
  },
  {
   "cell_type": "code",
   "execution_count": 286,
   "metadata": {},
   "outputs": [
    {
     "data": {
      "text/html": [
       "<div>\n",
       "<style scoped>\n",
       "    .dataframe tbody tr th:only-of-type {\n",
       "        vertical-align: middle;\n",
       "    }\n",
       "\n",
       "    .dataframe tbody tr th {\n",
       "        vertical-align: top;\n",
       "    }\n",
       "\n",
       "    .dataframe thead th {\n",
       "        text-align: right;\n",
       "    }\n",
       "</style>\n",
       "<table border=\"1\" class=\"dataframe\">\n",
       "  <thead>\n",
       "    <tr style=\"text-align: right;\">\n",
       "      <th></th>\n",
       "      <th>index</th>\n",
       "      <th>text</th>\n",
       "      <th>labels</th>\n",
       "      <th>morgan_fingerprints</th>\n",
       "    </tr>\n",
       "  </thead>\n",
       "  <tbody>\n",
       "    <tr>\n",
       "      <th>0</th>\n",
       "      <td>85</td>\n",
       "      <td>O=C(O)c1cccc(P(c2cccc(C(=O)O)c2)c2cccc(C(F)(F)...</td>\n",
       "      <td>-0.846185</td>\n",
       "      <td>[0.0, 0.0, 0.0, 0.0, 0.0, 0.0, 0.0, 0.0, 0.0, ...</td>\n",
       "    </tr>\n",
       "    <tr>\n",
       "      <th>1</th>\n",
       "      <td>59</td>\n",
       "      <td>Cc1ccccc1-c2ccccc2P(C3CCCCC3)C4CCCCC4</td>\n",
       "      <td>-0.483291</td>\n",
       "      <td>[0.0, 0.0, 1.0, 0.0, 1.0, 0.0, 0.0, 0.0, 0.0, ...</td>\n",
       "    </tr>\n",
       "    <tr>\n",
       "      <th>2</th>\n",
       "      <td>63</td>\n",
       "      <td>CC(C)(C)P(c1ccccc1-n2nc(cc2-c3ccccc3)-c4ccccc4...</td>\n",
       "      <td>-0.765542</td>\n",
       "      <td>[0.0, 0.0, 0.0, 0.0, 0.0, 0.0, 0.0, 0.0, 0.0, ...</td>\n",
       "    </tr>\n",
       "    <tr>\n",
       "      <th>3</th>\n",
       "      <td>77</td>\n",
       "      <td>FC(F)(F)C(F)(F)C(F)(F)C(Cc1ccc(P(c2ccccc2)c2cc...</td>\n",
       "      <td>-0.523612</td>\n",
       "      <td>[0.0, 0.0, 0.0, 0.0, 0.0, 0.0, 0.0, 0.0, 0.0, ...</td>\n",
       "    </tr>\n",
       "    <tr>\n",
       "      <th>4</th>\n",
       "      <td>37</td>\n",
       "      <td>CC(C)(C)c1cc(P(CC2CCCC2)c2cc(C(C)(C)C)cc(C(C)(...</td>\n",
       "      <td>0.403783</td>\n",
       "      <td>[0.0, 0.0, 0.0, 0.0, 1.0, 0.0, 0.0, 0.0, 0.0, ...</td>\n",
       "    </tr>\n",
       "  </tbody>\n",
       "</table>\n",
       "</div>"
      ],
      "text/plain": [
       "   index                                               text    labels  \\\n",
       "0     85  O=C(O)c1cccc(P(c2cccc(C(=O)O)c2)c2cccc(C(F)(F)... -0.846185   \n",
       "1     59              Cc1ccccc1-c2ccccc2P(C3CCCCC3)C4CCCCC4 -0.483291   \n",
       "2     63  CC(C)(C)P(c1ccccc1-n2nc(cc2-c3ccccc3)-c4ccccc4... -0.765542   \n",
       "3     77  FC(F)(F)C(F)(F)C(F)(F)C(Cc1ccc(P(c2ccccc2)c2cc... -0.523612   \n",
       "4     37  CC(C)(C)c1cc(P(CC2CCCC2)c2cc(C(C)(C)C)cc(C(C)(...  0.403783   \n",
       "\n",
       "                                 morgan_fingerprints  \n",
       "0  [0.0, 0.0, 0.0, 0.0, 0.0, 0.0, 0.0, 0.0, 0.0, ...  \n",
       "1  [0.0, 0.0, 1.0, 0.0, 1.0, 0.0, 0.0, 0.0, 0.0, ...  \n",
       "2  [0.0, 0.0, 0.0, 0.0, 0.0, 0.0, 0.0, 0.0, 0.0, ...  \n",
       "3  [0.0, 0.0, 0.0, 0.0, 0.0, 0.0, 0.0, 0.0, 0.0, ...  \n",
       "4  [0.0, 0.0, 0.0, 0.0, 1.0, 0.0, 0.0, 0.0, 0.0, ...  "
      ]
     },
     "execution_count": 286,
     "metadata": {},
     "output_type": "execute_result"
    }
   ],
   "source": [
    "remover = SaltRemover(defnData=\"[Cl,Br]\")\n",
    "morgan_list, mol_list_none = [], []\n",
    "mol_list = []\n",
    "\n",
    "for i,smiles in enumerate(valid_df['text']):\n",
    "    d1 = MolFromSmiles(smiles)\n",
    "    if d1 is None:\n",
    "        mol_list_none.append(i)\n",
    "    else:\n",
    "        d2 = remover.StripMol(d1)\n",
    "        mol_list.append(d2)\n",
    "        f1 = AllChem.GetMorganFingerprintAsBitVect(d2,2,nBits=1024)\n",
    "        arr = np.zeros((1,))\n",
    "        DataStructs.ConvertToNumpyArray(f1, arr)\n",
    "#         print(arr)\n",
    "        if any(np.isnan(arr)):\n",
    "            mol_list_none.append(i)\n",
    "        else:\n",
    "            morgan_list.append(arr)\n",
    "            \n",
    "valid_df = valid_df.drop(mol_list_none)\n",
    "valid_df[\"morgan_fingerprints\"] = morgan_list\n",
    "valid_df = valid_df.reset_index()\n",
    "\n",
    "valid_df.head()"
   ]
  },
  {
   "cell_type": "code",
   "execution_count": 287,
   "metadata": {},
   "outputs": [
    {
     "data": {
      "text/html": [
       "<div>\n",
       "<style scoped>\n",
       "    .dataframe tbody tr th:only-of-type {\n",
       "        vertical-align: middle;\n",
       "    }\n",
       "\n",
       "    .dataframe tbody tr th {\n",
       "        vertical-align: top;\n",
       "    }\n",
       "\n",
       "    .dataframe thead th {\n",
       "        text-align: right;\n",
       "    }\n",
       "</style>\n",
       "<table border=\"1\" class=\"dataframe\">\n",
       "  <thead>\n",
       "    <tr style=\"text-align: right;\">\n",
       "      <th></th>\n",
       "      <th>index</th>\n",
       "      <th>text</th>\n",
       "      <th>labels</th>\n",
       "      <th>morgan_fingerprints</th>\n",
       "    </tr>\n",
       "  </thead>\n",
       "  <tbody>\n",
       "    <tr>\n",
       "      <th>0</th>\n",
       "      <td>23</td>\n",
       "      <td>CC(C)c1cc(C(C)C)c(c(c1)C(C)C)-c2ccccc2P(C(C)(C...</td>\n",
       "      <td>-0.765542</td>\n",
       "      <td>[0.0, 1.0, 0.0, 0.0, 0.0, 0.0, 0.0, 0.0, 0.0, ...</td>\n",
       "    </tr>\n",
       "    <tr>\n",
       "      <th>1</th>\n",
       "      <td>83</td>\n",
       "      <td>OCP(CO)CO</td>\n",
       "      <td>-0.846185</td>\n",
       "      <td>[0.0, 0.0, 0.0, 0.0, 0.0, 0.0, 0.0, 0.0, 0.0, ...</td>\n",
       "    </tr>\n",
       "    <tr>\n",
       "      <th>2</th>\n",
       "      <td>74</td>\n",
       "      <td>c1ccc(P(C2CCCCC2)C2CCCCC2)c(-n2c3ccccc3c3ccccc...</td>\n",
       "      <td>-0.604255</td>\n",
       "      <td>[0.0, 0.0, 1.0, 0.0, 1.0, 0.0, 0.0, 0.0, 0.0, ...</td>\n",
       "    </tr>\n",
       "    <tr>\n",
       "      <th>3</th>\n",
       "      <td>82</td>\n",
       "      <td>COC(=O)CCP(CCC(=O)OC)CCC(=O)OC</td>\n",
       "      <td>-0.846185</td>\n",
       "      <td>[0.0, 0.0, 0.0, 0.0, 0.0, 0.0, 0.0, 0.0, 0.0, ...</td>\n",
       "    </tr>\n",
       "    <tr>\n",
       "      <th>4</th>\n",
       "      <td>20</td>\n",
       "      <td>Cc1cccc(P(c2cccc(C)c2)c2cccc(C)c2)c1</td>\n",
       "      <td>1.573109</td>\n",
       "      <td>[0.0, 0.0, 0.0, 0.0, 0.0, 0.0, 0.0, 0.0, 0.0, ...</td>\n",
       "    </tr>\n",
       "  </tbody>\n",
       "</table>\n",
       "</div>"
      ],
      "text/plain": [
       "   index                                               text    labels  \\\n",
       "0     23  CC(C)c1cc(C(C)C)c(c(c1)C(C)C)-c2ccccc2P(C(C)(C... -0.765542   \n",
       "1     83                                          OCP(CO)CO -0.846185   \n",
       "2     74  c1ccc(P(C2CCCCC2)C2CCCCC2)c(-n2c3ccccc3c3ccccc... -0.604255   \n",
       "3     82                     COC(=O)CCP(CCC(=O)OC)CCC(=O)OC -0.846185   \n",
       "4     20               Cc1cccc(P(c2cccc(C)c2)c2cccc(C)c2)c1  1.573109   \n",
       "\n",
       "                                 morgan_fingerprints  \n",
       "0  [0.0, 1.0, 0.0, 0.0, 0.0, 0.0, 0.0, 0.0, 0.0, ...  \n",
       "1  [0.0, 0.0, 0.0, 0.0, 0.0, 0.0, 0.0, 0.0, 0.0, ...  \n",
       "2  [0.0, 0.0, 1.0, 0.0, 1.0, 0.0, 0.0, 0.0, 0.0, ...  \n",
       "3  [0.0, 0.0, 0.0, 0.0, 0.0, 0.0, 0.0, 0.0, 0.0, ...  \n",
       "4  [0.0, 0.0, 0.0, 0.0, 0.0, 0.0, 0.0, 0.0, 0.0, ...  "
      ]
     },
     "execution_count": 287,
     "metadata": {},
     "output_type": "execute_result"
    }
   ],
   "source": [
    "remover = SaltRemover(defnData=\"[Cl,Br]\")\n",
    "morgan_list, mol_list_none = [], []\n",
    "mol_list = []\n",
    "\n",
    "for i,smiles in enumerate(test_df['text']):\n",
    "    d1 = MolFromSmiles(smiles)\n",
    "    if d1 is None:\n",
    "        mol_list_none.append(i)\n",
    "    else:\n",
    "        d2 = remover.StripMol(d1)\n",
    "        mol_list.append(d2)\n",
    "        f1 = AllChem.GetMorganFingerprintAsBitVect(d2,2,nBits=1024)\n",
    "        arr = np.zeros((1,))\n",
    "        DataStructs.ConvertToNumpyArray(f1, arr)\n",
    "#         print(arr)\n",
    "        if any(np.isnan(arr)):\n",
    "            mol_list_none.append(i)\n",
    "        else:\n",
    "            morgan_list.append(arr)\n",
    "            \n",
    "test_df = test_df.drop(mol_list_none)\n",
    "test_df[\"morgan_fingerprints\"] = morgan_list\n",
    "test_df = test_df.reset_index()\n",
    "\n",
    "test_df.head()"
   ]
  },
  {
   "cell_type": "code",
   "execution_count": 288,
   "metadata": {},
   "outputs": [],
   "source": [
    "import torch.nn.functional as F\n",
    "import torch.nn as nn\n",
    "import torch\n",
    "class Model(nn.Module):\n",
    "    \"\"\"Feedfoward neural network with 1 hidden layer\"\"\"\n",
    "    def __init__(self, in_size=1024, hidden_size=2048, out_size=1, n_hidden=0, activation=F.relu, bn=False,\n",
    "                **kwargs):\n",
    "        super().__init__()\n",
    "        self.bn = bn\n",
    "        # hidden layer\n",
    "        self.linear1 = nn.Linear(in_size, hidden_size)\n",
    "        self.hiddens = nn.ModuleList([nn.Linear(hidden_size, hidden_size) for i in range(n_hidden)])\n",
    "        self.bn_hiddens = nn.ModuleList([nn.BatchNorm1d(hidden_size) for i in range(n_hidden)])\n",
    "        self.bn = nn.BatchNorm1d(hidden_size)\n",
    "        # output layer\n",
    "        self.linear2 = nn.Linear(hidden_size, out_size)\n",
    "        self.activation = activation\n",
    "        \n",
    "    def forward(self, xb):\n",
    "        # Flatten the image tensors\n",
    "        xb = xb.view(xb.size(0), -1)\n",
    "        # Get intermediate outputs using hidden layer\n",
    "        out = self.linear1(xb)\n",
    "        for l, bn in zip(self.hiddens, self.bn_hiddens):\n",
    "            if self.bn:\n",
    "                out = bn(out)\n",
    "            out = self.activation(out)\n",
    "            out = l(out)\n",
    "        # Apply activation function\n",
    "        if self.bn:\n",
    "            out = self.bn(out)\n",
    "        out = self.activation(out)\n",
    "        # Get predictions using output layer\n",
    "        out = self.linear2(out)\n",
    "        return out.view(-1)   \n",
    "    \n",
    "    def training_step(self, batch):\n",
    "        images, labels = batch \n",
    "        #print(images.dtype, labels.dtype)\n",
    "        out = self(images).view(-1)  \n",
    "        #print(out.dtype)# Generate predictions\n",
    "        loss = F.mse_loss(out, labels) # Calculate loss\n",
    "        return loss\n",
    "    \n",
    "    def validation_step(self, batch):\n",
    "        images, labels = batch \n",
    "        out = self(images).view(-1)                       # Generate predictions\n",
    "        loss = F.mse_loss(out, labels)   # Calculate loss           # Calculate accuracy\n",
    "        return {'val_loss': loss}\n",
    "        \n",
    "    def validation_epoch_end(self, outputs):\n",
    "        batch_losses = [x['val_loss'] for x in outputs]\n",
    "        epoch_loss = torch.stack(batch_losses).mean()   # Combine losses\n",
    "#         batch_accs = [x['val_acc'] for x in outputs]\n",
    "#         epoch_acc = torch.stack(batch_accs).mean()      # Combine accuracies\n",
    "        return {'val_loss': epoch_loss.item()}\n",
    "    \n",
    "    def epoch_end(self, epoch, result):\n",
    "        print(\"Epoch [{}], train_loss: {:.4f}, val_loss: {:.4f}\".format(epoch, result['train_loss'], result['val_loss']))"
   ]
  },
  {
   "cell_type": "code",
   "execution_count": 289,
   "metadata": {},
   "outputs": [],
   "source": [
    "default_nn = Model()"
   ]
  },
  {
   "cell_type": "code",
   "execution_count": 290,
   "metadata": {},
   "outputs": [
    {
     "data": {
      "text/plain": [
       "device(type='cuda')"
      ]
     },
     "execution_count": 290,
     "metadata": {},
     "output_type": "execute_result"
    }
   ],
   "source": [
    "def get_default_device():\n",
    "    \"\"\"Pick GPU if available, else CPU\"\"\"\n",
    "    if torch.cuda.is_available():\n",
    "        return torch.device('cuda')\n",
    "    else:\n",
    "        return torch.device('cpu')\n",
    "\n",
    "device = get_default_device()\n",
    "device"
   ]
  },
  {
   "cell_type": "code",
   "execution_count": 291,
   "metadata": {},
   "outputs": [],
   "source": [
    "class DeviceDataLoader():\n",
    "    \"\"\"Wrap a dataloader to move data to a device\"\"\"\n",
    "    def __init__(self, dl, device):\n",
    "        self.dl = dl\n",
    "        self.device = device\n",
    "        \n",
    "    def __iter__(self):\n",
    "        \"\"\"Yield a batch of data after moving it to device\"\"\"\n",
    "        for b in self.dl: \n",
    "            yield to_device(b, self.device)\n",
    "\n",
    "    def __len__(self):\n",
    "        \"\"\"Number of batches\"\"\"\n",
    "        return len(self.dl)"
   ]
  },
  {
   "cell_type": "code",
   "execution_count": 292,
   "metadata": {},
   "outputs": [
    {
     "name": "stdout",
     "output_type": "stream",
     "text": [
      "Shape of X [N, C]:  torch.Size([19, 1024]) torch.float32\n",
      "Shape of y:  torch.Size([19]) torch.float32\n"
     ]
    }
   ],
   "source": [
    "from torch.utils.data import TensorDataset\n",
    "from torch.utils.data import DataLoader\n",
    "\n",
    "x_train, y_train, X_valid, y_valid, x_test, y_test = map(\n",
    "    torch.tensor, (X_train, y_train, X_valid, y_valid, X_test, y_test)\n",
    ")\n",
    "\n",
    "\n",
    "training_data = TensorDataset(x_train.to(torch.float32), y_train)\n",
    "validation_data = TensorDataset(X_valid.to(torch.float32), y_valid)\n",
    "test_data = TensorDataset(x_test.to(torch.float32), y_test)\n",
    "\n",
    "batch_size = 128\n",
    "\n",
    "# Create data loaders.\n",
    "train_loader = DataLoader(training_data, batch_size=batch_size, shuffle=True)\n",
    "valid_loader = DataLoader(validation_data, batch_size=batch_size)\n",
    "test_loader = DataLoader(test_data, batch_size=batch_size)\n",
    "\n",
    "for X, y in test_loader:\n",
    "    print(\"Shape of X [N, C]: \", X.shape,X.dtype)\n",
    "    print(\"Shape of y: \", y.shape, y.dtype)\n",
    "    break"
   ]
  },
  {
   "cell_type": "code",
   "execution_count": 293,
   "metadata": {},
   "outputs": [],
   "source": [
    "train_loader = DeviceDataLoader(train_loader, device)\n",
    "valid_loader = DeviceDataLoader(valid_loader, device)"
   ]
  },
  {
   "cell_type": "code",
   "execution_count": 294,
   "metadata": {},
   "outputs": [],
   "source": [
    "def to_device(data, device):\n",
    "    \"\"\"Move tensor(s) to chosen device\"\"\"\n",
    "    if isinstance(data, (list,tuple)):\n",
    "        return [to_device(x, device) for x in data]\n",
    "    return data.to(device, non_blocking=True)"
   ]
  },
  {
   "cell_type": "code",
   "execution_count": 295,
   "metadata": {},
   "outputs": [
    {
     "name": "stdout",
     "output_type": "stream",
     "text": [
      "Shape of X [N, C]:  torch.Size([71, 1024]) torch.float32\n",
      "Shape of y:  torch.Size([71]) torch.float32\n"
     ]
    }
   ],
   "source": [
    "for X, y in train_loader:\n",
    "    print(\"Shape of X [N, C]: \", X.shape,X.dtype)\n",
    "    print(\"Shape of y: \", y.shape, y.dtype)\n",
    "    break"
   ]
  },
  {
   "cell_type": "code",
   "execution_count": 296,
   "metadata": {},
   "outputs": [],
   "source": [
    "import copy\n",
    "def evaluate(model, val_loader):\n",
    "    \"\"\"Evaluate the model's performance on the validation set\"\"\"\n",
    "    outputs = [model.validation_step(batch) for batch in val_loader]\n",
    "    return model.validation_epoch_end(outputs)\n",
    "\n",
    "def fit(epochs, lr, model, train_loader, val_loader, opt_func=torch.optim.SGD):\n",
    "    \"\"\"Train the model using gradient descent\"\"\"\n",
    "    history = []\n",
    "    optimizer = opt_func(model.parameters(), lr)\n",
    "    scheduler = torch.optim.lr_scheduler.ReduceLROnPlateau(optimizer, factor=0.7, patience=5)\n",
    "    best_loss = np.inf\n",
    "    best_model = None\n",
    "    for epoch in range(epochs):\n",
    "        # Training Phase \n",
    "        train_loss = 0.\n",
    "        train_count = 0\n",
    "        for batch in train_loader:\n",
    "            loss = model.training_step(batch)\n",
    "            loss.backward()\n",
    "            optimizer.step()\n",
    "            optimizer.zero_grad()\n",
    "            train_loss += loss.item()*len(batch)\n",
    "            train_count += len(batch)\n",
    "        train_loss /= train_count\n",
    "        # Validation phase\n",
    "        result = evaluate(model, val_loader)\n",
    "        result[\"train_loss\"] = train_loss\n",
    "        scheduler.step(result[\"val_loss\"])\n",
    "        \n",
    "        if result[\"val_loss\"] < best_loss:\n",
    "            best_model = copy.deepcopy(model)\n",
    "        \n",
    "        if epoch%20 == 0:\n",
    "            model.epoch_end(epoch, result)\n",
    "        history.append(result)\n",
    "    return history, best_model"
   ]
  },
  {
   "cell_type": "code",
   "execution_count": 297,
   "metadata": {},
   "outputs": [],
   "source": [
    "default_nn = default_nn"
   ]
  },
  {
   "cell_type": "code",
   "execution_count": 298,
   "metadata": {},
   "outputs": [
    {
     "ename": "RuntimeError",
     "evalue": "stack expects a non-empty TensorList",
     "output_type": "error",
     "traceback": [
      "\u001b[1;31m---------------------------------------------------------------------------\u001b[0m",
      "\u001b[1;31mRuntimeError\u001b[0m                              Traceback (most recent call last)",
      "\u001b[1;32m~\\AppData\\Local\\Temp\\ipykernel_13532\\3541595890.py\u001b[0m in \u001b[0;36m<module>\u001b[1;34m\u001b[0m\n\u001b[0;32m      1\u001b[0m \u001b[0mdefault_nn\u001b[0m \u001b[1;33m=\u001b[0m \u001b[0mModel\u001b[0m\u001b[1;33m(\u001b[0m\u001b[1;33m)\u001b[0m\u001b[1;33m.\u001b[0m\u001b[0mto\u001b[0m\u001b[1;33m(\u001b[0m\u001b[0mdevice\u001b[0m\u001b[1;33m)\u001b[0m\u001b[1;33m\u001b[0m\u001b[1;33m\u001b[0m\u001b[0m\n\u001b[1;32m----> 2\u001b[1;33m \u001b[0mhistory\u001b[0m\u001b[1;33m,\u001b[0m \u001b[0mbest_model\u001b[0m \u001b[1;33m=\u001b[0m \u001b[0mfit\u001b[0m\u001b[1;33m(\u001b[0m\u001b[1;36m150\u001b[0m\u001b[1;33m,\u001b[0m \u001b[1;36m0.0005\u001b[0m\u001b[1;33m,\u001b[0m \u001b[0mdefault_nn\u001b[0m\u001b[1;33m,\u001b[0m \u001b[0mtrain_loader\u001b[0m\u001b[1;33m,\u001b[0m \u001b[0mvalid_loader\u001b[0m\u001b[1;33m)\u001b[0m\u001b[1;33m\u001b[0m\u001b[1;33m\u001b[0m\u001b[0m\n\u001b[0m",
      "\u001b[1;32m~\\AppData\\Local\\Temp\\ipykernel_13532\\3175713783.py\u001b[0m in \u001b[0;36mfit\u001b[1;34m(epochs, lr, model, train_loader, val_loader, opt_func)\u001b[0m\n\u001b[0;32m     25\u001b[0m         \u001b[0mtrain_loss\u001b[0m \u001b[1;33m/=\u001b[0m \u001b[0mtrain_count\u001b[0m\u001b[1;33m\u001b[0m\u001b[1;33m\u001b[0m\u001b[0m\n\u001b[0;32m     26\u001b[0m         \u001b[1;31m# Validation phase\u001b[0m\u001b[1;33m\u001b[0m\u001b[1;33m\u001b[0m\u001b[1;33m\u001b[0m\u001b[0m\n\u001b[1;32m---> 27\u001b[1;33m         \u001b[0mresult\u001b[0m \u001b[1;33m=\u001b[0m \u001b[0mevaluate\u001b[0m\u001b[1;33m(\u001b[0m\u001b[0mmodel\u001b[0m\u001b[1;33m,\u001b[0m \u001b[0mval_loader\u001b[0m\u001b[1;33m)\u001b[0m\u001b[1;33m\u001b[0m\u001b[1;33m\u001b[0m\u001b[0m\n\u001b[0m\u001b[0;32m     28\u001b[0m         \u001b[0mresult\u001b[0m\u001b[1;33m[\u001b[0m\u001b[1;34m\"train_loss\"\u001b[0m\u001b[1;33m]\u001b[0m \u001b[1;33m=\u001b[0m \u001b[0mtrain_loss\u001b[0m\u001b[1;33m\u001b[0m\u001b[1;33m\u001b[0m\u001b[0m\n\u001b[0;32m     29\u001b[0m         \u001b[0mscheduler\u001b[0m\u001b[1;33m.\u001b[0m\u001b[0mstep\u001b[0m\u001b[1;33m(\u001b[0m\u001b[0mresult\u001b[0m\u001b[1;33m[\u001b[0m\u001b[1;34m\"val_loss\"\u001b[0m\u001b[1;33m]\u001b[0m\u001b[1;33m)\u001b[0m\u001b[1;33m\u001b[0m\u001b[1;33m\u001b[0m\u001b[0m\n",
      "\u001b[1;32m~\\AppData\\Local\\Temp\\ipykernel_13532\\3175713783.py\u001b[0m in \u001b[0;36mevaluate\u001b[1;34m(model, val_loader)\u001b[0m\n\u001b[0;32m      3\u001b[0m     \u001b[1;34m\"\"\"Evaluate the model's performance on the validation set\"\"\"\u001b[0m\u001b[1;33m\u001b[0m\u001b[1;33m\u001b[0m\u001b[0m\n\u001b[0;32m      4\u001b[0m     \u001b[0moutputs\u001b[0m \u001b[1;33m=\u001b[0m \u001b[1;33m[\u001b[0m\u001b[0mmodel\u001b[0m\u001b[1;33m.\u001b[0m\u001b[0mvalidation_step\u001b[0m\u001b[1;33m(\u001b[0m\u001b[0mbatch\u001b[0m\u001b[1;33m)\u001b[0m \u001b[1;32mfor\u001b[0m \u001b[0mbatch\u001b[0m \u001b[1;32min\u001b[0m \u001b[0mval_loader\u001b[0m\u001b[1;33m]\u001b[0m\u001b[1;33m\u001b[0m\u001b[1;33m\u001b[0m\u001b[0m\n\u001b[1;32m----> 5\u001b[1;33m     \u001b[1;32mreturn\u001b[0m \u001b[0mmodel\u001b[0m\u001b[1;33m.\u001b[0m\u001b[0mvalidation_epoch_end\u001b[0m\u001b[1;33m(\u001b[0m\u001b[0moutputs\u001b[0m\u001b[1;33m)\u001b[0m\u001b[1;33m\u001b[0m\u001b[1;33m\u001b[0m\u001b[0m\n\u001b[0m\u001b[0;32m      6\u001b[0m \u001b[1;33m\u001b[0m\u001b[0m\n\u001b[0;32m      7\u001b[0m \u001b[1;32mdef\u001b[0m \u001b[0mfit\u001b[0m\u001b[1;33m(\u001b[0m\u001b[0mepochs\u001b[0m\u001b[1;33m,\u001b[0m \u001b[0mlr\u001b[0m\u001b[1;33m,\u001b[0m \u001b[0mmodel\u001b[0m\u001b[1;33m,\u001b[0m \u001b[0mtrain_loader\u001b[0m\u001b[1;33m,\u001b[0m \u001b[0mval_loader\u001b[0m\u001b[1;33m,\u001b[0m \u001b[0mopt_func\u001b[0m\u001b[1;33m=\u001b[0m\u001b[0mtorch\u001b[0m\u001b[1;33m.\u001b[0m\u001b[0moptim\u001b[0m\u001b[1;33m.\u001b[0m\u001b[0mSGD\u001b[0m\u001b[1;33m)\u001b[0m\u001b[1;33m:\u001b[0m\u001b[1;33m\u001b[0m\u001b[1;33m\u001b[0m\u001b[0m\n",
      "\u001b[1;32m~\\AppData\\Local\\Temp\\ipykernel_13532\\2069387693.py\u001b[0m in \u001b[0;36mvalidation_epoch_end\u001b[1;34m(self, outputs)\u001b[0m\n\u001b[0;32m     51\u001b[0m     \u001b[1;32mdef\u001b[0m \u001b[0mvalidation_epoch_end\u001b[0m\u001b[1;33m(\u001b[0m\u001b[0mself\u001b[0m\u001b[1;33m,\u001b[0m \u001b[0moutputs\u001b[0m\u001b[1;33m)\u001b[0m\u001b[1;33m:\u001b[0m\u001b[1;33m\u001b[0m\u001b[1;33m\u001b[0m\u001b[0m\n\u001b[0;32m     52\u001b[0m         \u001b[0mbatch_losses\u001b[0m \u001b[1;33m=\u001b[0m \u001b[1;33m[\u001b[0m\u001b[0mx\u001b[0m\u001b[1;33m[\u001b[0m\u001b[1;34m'val_loss'\u001b[0m\u001b[1;33m]\u001b[0m \u001b[1;32mfor\u001b[0m \u001b[0mx\u001b[0m \u001b[1;32min\u001b[0m \u001b[0moutputs\u001b[0m\u001b[1;33m]\u001b[0m\u001b[1;33m\u001b[0m\u001b[1;33m\u001b[0m\u001b[0m\n\u001b[1;32m---> 53\u001b[1;33m         \u001b[0mepoch_loss\u001b[0m \u001b[1;33m=\u001b[0m \u001b[0mtorch\u001b[0m\u001b[1;33m.\u001b[0m\u001b[0mstack\u001b[0m\u001b[1;33m(\u001b[0m\u001b[0mbatch_losses\u001b[0m\u001b[1;33m)\u001b[0m\u001b[1;33m.\u001b[0m\u001b[0mmean\u001b[0m\u001b[1;33m(\u001b[0m\u001b[1;33m)\u001b[0m   \u001b[1;31m# Combine losses\u001b[0m\u001b[1;33m\u001b[0m\u001b[1;33m\u001b[0m\u001b[0m\n\u001b[0m\u001b[0;32m     54\u001b[0m \u001b[1;31m#         batch_accs = [x['val_acc'] for x in outputs]\u001b[0m\u001b[1;33m\u001b[0m\u001b[1;33m\u001b[0m\u001b[1;33m\u001b[0m\u001b[0m\n\u001b[0;32m     55\u001b[0m \u001b[1;31m#         epoch_acc = torch.stack(batch_accs).mean()      # Combine accuracies\u001b[0m\u001b[1;33m\u001b[0m\u001b[1;33m\u001b[0m\u001b[1;33m\u001b[0m\u001b[0m\n",
      "\u001b[1;31mRuntimeError\u001b[0m: stack expects a non-empty TensorList"
     ]
    }
   ],
   "source": [
    "default_nn = Model().to(device)\n",
    "history, best_model = fit(150, 0.0005, default_nn, train_loader, valid_loader)"
   ]
  },
  {
   "cell_type": "code",
   "execution_count": null,
   "metadata": {},
   "outputs": [
    {
     "name": "stdout",
     "output_type": "stream",
     "text": [
      "train RMSE:  0.45170158\n",
      "test RMSE:  0.9504912\n"
     ]
    }
   ],
   "source": [
    "from sklearn.metrics import mean_squared_error\n",
    "print(\"train RMSE: \", mean_squared_error(y_train.cpu(), best_model(to_device(x_train.to(torch.float32), device)).cpu().detach().numpy()))\n",
    "print(\"test RMSE: \", mean_squared_error(y_test.cpu(), best_model(to_device(x_test.to(torch.float32), device)).cpu().detach().numpy()))"
   ]
  },
  {
   "cell_type": "code",
   "execution_count": null,
   "metadata": {},
   "outputs": [
    {
     "name": "stdout",
     "output_type": "stream",
     "text": [
      "Training set R^2: 0.5418456009875364\n",
      "test set R^2: -228.75757786934545\n"
     ]
    }
   ],
   "source": [
    "from sklearn.metrics import r2_score\n",
    "r2_score5=r2_score(y_train.cpu(), best_model(to_device(x_train.to(torch.float32), device)).cpu().detach().numpy())\n",
    "print(\"Training set R^2:\",r2_score5)\n",
    "r2_score6=r2_score(y_test.cpu(), best_model(to_device(x_test.to(torch.float32), device)).cpu().detach().numpy())\n",
    "print(\"test set R^2:\",r2_score6)"
   ]
  },
  {
   "cell_type": "code",
   "execution_count": null,
   "metadata": {},
   "outputs": [],
   "source": [
    "def train_curve(history):\n",
    "    for key in [\"train_loss\", \"val_loss\"]:\n",
    "        plt.plot([history_[key] for history_ in history], label=key)\n",
    "    plt.xlabel(\"epoch\")\n",
    "    plt.ylabel(\"RMSE\")\n",
    "    plt.legend()\n",
    "    plt.show()"
   ]
  },
  {
   "cell_type": "code",
   "execution_count": null,
   "metadata": {},
   "outputs": [
    {
     "data": {
      "image/png": "[encoded data removed]",
      "text/plain": [
       "<Figure size 432x288 with 1 Axes>"
      ]
     },
     "metadata": {
      "needs_background": "light"
     },
     "output_type": "display_data"
    }
   ],
   "source": [
    "train_curve(history)"
   ]
  },
  {
   "cell_type": "markdown",
   "metadata": {},
   "source": [
    "# Summary\n",
    "#### Random Forest:\n",
    "Training set RMSE: 0.0979\n",
    "\n",
    "Test set RMSE: 0.269\n",
    "\n",
    "Training set R^2: 0.990\n",
    "\n",
    "Test set R^2: 0.930\n",
    "\n",
    "\n",
    "#### Neural Network:\n",
    "Training set RMSE: 0.0895\n",
    "\n",
    "Test set RMSE: 0.136\n",
    "\n",
    "Training set R^2: 0.911\n",
    "\n",
    "Test set R^2: 0.868"
   ]
  },
  {
   "cell_type": "code",
   "execution_count": null,
   "metadata": {},
   "outputs": [],
   "source": []
  },
  {
   "cell_type": "code",
   "execution_count": null,
   "metadata": {},
   "outputs": [],
   "source": []
  },
  {
   "cell_type": "code",
   "execution_count": null,
   "metadata": {},
   "outputs": [],
   "source": []
  },
  {
   "cell_type": "code",
   "execution_count": null,
   "metadata": {},
   "outputs": [],
   "source": []
  },
  {
   "cell_type": "code",
   "execution_count": null,
   "metadata": {},
   "outputs": [],
   "source": []
  }
 ],
 "metadata": {
  "kernelspec": {
   "display_name": "Python 3.7.5 ('edbo')",
   "language": "python",
   "name": "python3"
  },
  "language_info": {
   "codemirror_mode": {
    "name": "ipython",
    "version": 3
   },
   "file_extension": ".py",
   "mimetype": "text/x-python",
   "name": "python",
   "nbconvert_exporter": "python",
   "pygments_lexer": "ipython3",
   "version": "3.7.5"
  },
  "vscode": {
   "interpreter": {
    "hash": "35dcc0571dd3b30a10e7e4f63f8ab320e21fb7c36bdfb0091fdcd275eb57d35a"
   }
  }
 },
 "nbformat": 4,
 "nbformat_minor": 4
}
