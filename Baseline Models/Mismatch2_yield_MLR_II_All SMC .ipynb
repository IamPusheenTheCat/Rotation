{
 "cells": [
  {
   "cell_type": "markdown",
   "metadata": {},
   "source": [
    "# Multivariate Linear Regression on DFT_SMC - All Data - With random yields"
   ]
  },
  {
   "cell_type": "markdown",
   "metadata": {},
   "source": [
    "- Dataset: DFT_SMC, 90 of the ligands\n",
    "- x = Multivariates, Selected Features\n",
    "- y = Mismatched Yields from rxn II, Sam's paper             \n",
    "Hypothesis: If the cross validation score is somewhat the same as the non-mismatched MLR prediction, that means MLR prediction fails to give out the most important features. Rather, the 'important' features were selected based on structure of the dataset. "
   ]
  },
  {
   "cell_type": "markdown",
   "metadata": {},
   "source": [
    "Data preparation"
   ]
  },
  {
   "cell_type": "code",
   "execution_count": null,
   "metadata": {},
   "outputs": [],
   "source": [
    "import numpy as np\n",
    "import sklearn\n",
    "import matplotlib.pyplot as plt\n",
    "import pandas as pd\n",
    "from rdkit.Chem import AllChem, MolFromSmiles\n",
    "from rdkit.Chem.SaltRemover import SaltRemover\n",
    "from rdkit.Chem import DataStructs\n",
    "from rdkit import Chem\n",
    "from rxnfp.tokenization import get_default_tokenizer, SmilesTokenizer\n",
    "from rdkit.Chem import rdChemReactions"
   ]
  },
  {
   "cell_type": "code",
   "execution_count": null,
   "metadata": {},
   "outputs": [],
   "source": [
    "# data\n",
    "import pandas as pd\n",
    "from rdkit import Chem\n",
    "#from rxn_yields.data import generate_buchwald_hartwig_rxns\n",
    "#df = pd.read_excel('../data/Buchwald-Hartwig/Dreher_and_Doyle_input_data.xlsx', sheet_name='FullCV_01')\n",
    "df_origin = pd.read_excel('smc_data.xlsx', sheet_name='DFT_SMC')\n",
    "df_origin = df_origin.sample(frac=1,random_state=42)\n",
    "df_x = df_origin.drop(columns = ['SMILES','ID','ID.1','Unnamed: 0','y1','y2','y3','y4'])\n",
    "df_x = df_x.drop(columns = ['y5','y6','y7','y8','y9','y10','y11','y12'])\n",
    "df_x = df_x.drop(columns = ['y13','y14','y15','y16','y17','y18','y19','buch'])\n",
    "df_x = df_x.drop(columns = ['x198','x199','x200','x201','x202','Unnamed: 110'])\n",
    "df_y = df_origin[['x198']]\n",
    "#!!!!!!!!!!!!!!!!!!!!!!!!!!!!!!\n",
    "#Make it completely mismatched\n",
    "df_y = df_y.sample(frac=1,random_state=4)"
   ]
  },
  {
   "cell_type": "code",
   "execution_count": null,
   "metadata": {},
   "outputs": [],
   "source": [
    "print('Shape of input:',df_x.shape,'\\nShape of output:' ,df_y.shape)\n",
    "df_x = df_x.astype(float)\n",
    "df_y = df_y.astype(float)\n",
    "df_x.to_excel(\"output.xlsx\") "
   ]
  },
  {
   "cell_type": "code",
   "execution_count": null,
   "metadata": {},
   "outputs": [],
   "source": [
    "df_x"
   ]
  },
  {
   "cell_type": "code",
   "execution_count": null,
   "metadata": {},
   "outputs": [],
   "source": [
    "df_y"
   ]
  },
  {
   "cell_type": "markdown",
   "metadata": {},
   "source": [
    "Permutation for 3 features"
   ]
  },
  {
   "cell_type": "code",
   "execution_count": null,
   "metadata": {},
   "outputs": [],
   "source": [
    "# permutations using library function !!not successful\n",
    "from itertools import permutations \n",
    "\n",
    "perm = permutations(df_x.columns)\n",
    "print(perm)"
   ]
  },
  {
   "cell_type": "markdown",
   "metadata": {},
   "source": [
    "Visualization - three features"
   ]
  },
  {
   "cell_type": "code",
   "execution_count": null,
   "metadata": {},
   "outputs": [],
   "source": [
    "def plot_three_features(df_x,i,j,k):\n",
    "    fig=plt.figure()\n",
    "    ax=fig.add_subplot(111,projection='3d')\n",
    "    n=100\n",
    "    ax.scatter(df_x[i],df_x[j],df_x[k],color=\"red\")\n",
    "    ax.set_xlabel(i)\n",
    "    ax.set_ylabel(j)\n",
    "    ax.set_zlabel(k)\n",
    "    print(\"A plot of axis:\",i, j, \", and \",k)\n",
    "    plt.show()"
   ]
  },
  {
   "cell_type": "code",
   "execution_count": null,
   "metadata": {},
   "outputs": [],
   "source": [
    "plot_three_features(df_x,'x1','x2','x3')"
   ]
  },
  {
   "cell_type": "code",
   "execution_count": null,
   "metadata": {},
   "outputs": [],
   "source": [
    "#This allows you to plot the 3d diagram of 2 features selected +1 feature from all features\n",
    "for i in df_x.columns:\n",
    "    #plot_three_features(df_x,i)\n",
    "    continue"
   ]
  },
  {
   "cell_type": "markdown",
   "metadata": {},
   "source": [
    "Splitting dataset"
   ]
  },
  {
   "cell_type": "code",
   "execution_count": null,
   "metadata": {},
   "outputs": [],
   "source": [
    "#Splitting dataset\n",
    "train_x = df_x[:(int((len(df_x)*0.79)))]\n",
    "train_y = df_y[:(int((len(df_x)*0.79)))]\n",
    "test_x = df_x[(int((len(df_x)*0.79))):]\n",
    "test_y = df_y[(int((len(df_x)*0.79))):]\n",
    "print(train_x.shape)"
   ]
  },
  {
   "cell_type": "code",
   "execution_count": null,
   "metadata": {},
   "outputs": [],
   "source": [
    "from sklearn import linear_model\n",
    "\n",
    "regr = linear_model.LinearRegression()\n",
    "train_x1 = np.array(train_x[[\"x1\"]])\n",
    "train_x2 = np.array(train_x[[\"x2\"]])\n",
    "regr.fit(train_x,train_y)"
   ]
  },
  {
   "cell_type": "markdown",
   "metadata": {},
   "source": [
    "# MLR - with all features"
   ]
  },
  {
   "cell_type": "code",
   "execution_count": null,
   "metadata": {},
   "outputs": [],
   "source": [
    "#Not using this package\n",
    "from sklearn.preprocessing import StandardScaler\n",
    "sc = StandardScaler()\n",
    "X = sc.fit_transform(df_x)"
   ]
  },
  {
   "cell_type": "code",
   "execution_count": null,
   "metadata": {},
   "outputs": [],
   "source": [
    "def linear_reg_of_n_features(df_x,df_y):\n",
    "    reg=linear_model.LinearRegression()     #initiating linearregression\n",
    "    model = reg.fit(df_x,df_y)\n",
    "    Intercept=reg.intercept_\n",
    "    Coefficients=reg.coef_\n",
    "    return Intercept, Coefficients, model\n",
    "    "
   ]
  },
  {
   "cell_type": "code",
   "execution_count": null,
   "metadata": {},
   "outputs": [],
   "source": [
    "Intercept, Coefficients, model = linear_reg_of_n_features(train_x,train_y)"
   ]
  },
  {
   "cell_type": "code",
   "execution_count": null,
   "metadata": {},
   "outputs": [],
   "source": [
    "from sklearn.metrics import mean_squared_error\n",
    "from sklearn.metrics import r2_score\n",
    "\n",
    "reg_predictions = model.predict(train_x)\n",
    "reg_mse = mean_squared_error(train_y, reg_predictions)\n",
    "reg_rmse = np.sqrt(reg_mse)\n",
    "print(\"Training set RMSE:\",reg_rmse)\n",
    "\n",
    "reg_predictions2 = model.predict(test_x)\n",
    "reg_mse2 = mean_squared_error(test_y, reg_predictions2)\n",
    "reg_rmse2 = np.sqrt(reg_mse2)\n",
    "print(\"Test set RMSE:\",reg_rmse2)\n",
    "\n",
    "r2_score2=r2_score(train_y, reg_predictions)\n",
    "print(\"Training set R^2:\",r2_score2)\n",
    "r2_score3=r2_score(test_y, reg_predictions2)\n",
    "print(\"Test set R^2:\",r2_score3)"
   ]
  },
  {
   "cell_type": "code",
   "execution_count": null,
   "metadata": {},
   "outputs": [],
   "source": [
    "print(\"Intercept:\",Intercept,\"Coefficient:\",Coefficients)"
   ]
  },
  {
   "cell_type": "markdown",
   "metadata": {},
   "source": [
    "# MLR - with 3 features"
   ]
  },
  {
   "cell_type": "code",
   "execution_count": null,
   "metadata": {},
   "outputs": [],
   "source": [
    "def linear_reg_of_3_features(df_x,df_y,i,j,k):\n",
    "    df_3f = df_x[[i,j,k]]\n",
    "    reg=linear_model.LinearRegression()     #initiating linearregression\n",
    "    model = reg.fit(df_3f,df_y)\n",
    "    Intercept=reg.intercept_\n",
    "    Coefficients=reg.coef_\n",
    "    return Intercept, Coefficients, model\n",
    "    "
   ]
  },
  {
   "cell_type": "code",
   "execution_count": null,
   "metadata": {},
   "outputs": [],
   "source": [
    "def evaluate_model_of_3_features(train_x,train_y,test_x,test_y,model,i,j,k):\n",
    "    reg_predictions = model.predict(train_x[[i,j,k]])\n",
    "    train_mse = mean_squared_error(train_y, reg_predictions)\n",
    "    train_rmse = \"{:.2f}\".format(np.sqrt(train_mse))\n",
    "\n",
    "    reg_predictions2 = model.predict(test_x[[i,j,k]])\n",
    "    test_mse = mean_squared_error(test_y, reg_predictions2)\n",
    "    test_rmse = \"{:.2f}\".format(np.sqrt(test_mse))\n",
    "\n",
    "    train_r2=\"{:.2f}\".format(r2_score(train_y, reg_predictions))\n",
    "    test_r2=\"{:.2f}\".format(r2_score(test_y, reg_predictions2))\n",
    "    return train_rmse, test_rmse, train_r2, test_r2"
   ]
  },
  {
   "cell_type": "code",
   "execution_count": null,
   "metadata": {},
   "outputs": [],
   "source": [
    "def evaluate_model_of_n_features(train_x,train_y,test_x,test_y,model):\n",
    "    reg_predictions = model.predict(train_x)\n",
    "    train_mse = mean_squared_error(train_y, reg_predictions)\n",
    "    train_rmse = \"{:.2f}\".format(np.sqrt(train_mse))\n",
    "\n",
    "    reg_predictions2 = model.predict(test_x)\n",
    "    test_mse = mean_squared_error(test_y, reg_predictions2)\n",
    "    test_rmse = \"{:.2f}\".format(np.sqrt(test_mse))\n",
    "\n",
    "    train_r2=\"{:.2f}\".format(r2_score(train_y, reg_predictions))\n",
    "    test_r2=\"{:.2f}\".format(r2_score(test_y, reg_predictions2))\n",
    "    return train_rmse, test_rmse, train_r2, test_r2"
   ]
  },
  {
   "cell_type": "code",
   "execution_count": null,
   "metadata": {},
   "outputs": [],
   "source": [
    "#Combination of all columns from dataframe\n",
    "def all_features(df):\n",
    "    all_features = df.columns.values.tolist()\n",
    "    return all_features"
   ]
  },
  {
   "cell_type": "code",
   "execution_count": null,
   "metadata": {},
   "outputs": [],
   "source": [
    "#This code actually generate a real combination of 3 features, but it just... contains too many for loops\n",
    "all_feat = all_features(df_x)\n",
    "def combination_any_3_features(all_feat):\n",
    "    comb_3_feat = []\n",
    "    for i in all_feat:\n",
    "        for j in all_feat:\n",
    "            for k in all_feat:\n",
    "                if i!=j and j!=k and k!=i:\n",
    "                    comb_3_feat.append([i,j,k])\n",
    "        \n",
    "    return comb_3_feat"
   ]
  },
  {
   "cell_type": "code",
   "execution_count": null,
   "metadata": {},
   "outputs": [],
   "source": [
    "def combination_any_2_features(all_feat,preset_feat):\n",
    "    comb_2_feat = []\n",
    "    for i in all_feat:\n",
    "        for j in all_feat:\n",
    "            if i!=j and i!=preset_feat and j!=preset_feat:\n",
    "                comb_2_feat.append([preset_feat,i,j])\n",
    "        \n",
    "    return comb_2_feat"
   ]
  },
  {
   "cell_type": "code",
   "execution_count": null,
   "metadata": {},
   "outputs": [],
   "source": [
    "feats = combination_any_2_features(df_x,'x30')"
   ]
  },
  {
   "cell_type": "code",
   "execution_count": 55,
   "metadata": {},
   "outputs": [
    {
     "data": {
      "text/plain": [
       "0"
      ]
     },
     "execution_count": 55,
     "metadata": {},
     "output_type": "execute_result"
    }
   ],
   "source": [
    "all_feat.index('x1')"
   ]
  },
  {
   "cell_type": "markdown",
   "metadata": {},
   "source": [
    "Do not re-do the feature combination generation because it cost time"
   ]
  },
  {
   "cell_type": "code",
   "execution_count": 56,
   "metadata": {},
   "outputs": [],
   "source": [
    "#x1x2x3 x2x3x4 x3x4x5... a 'combination' that has 190~ elements so that I try things that aren't computational demanding\n",
    "def fake_combination_any_3_features(df):\n",
    "    comb_3_feat = []\n",
    "    k=\"x1\"\n",
    "    for i in df.columns:\n",
    "        while k != 'x197':\n",
    "            j = df.columns[df.columns.get_loc(i)+1]\n",
    "            k = df.columns[df.columns.get_loc(j)+1]\n",
    "            if i !=j and j!=k and i!=k:\n",
    "                print(i,j,k)\n",
    "                comb_3_feat.append([i,j,k])\n",
    "                i = df.columns[df.columns.get_loc(i)+1]\n",
    "    return comb_3_feat\n",
    "\n",
    "        "
   ]
  },
  {
   "cell_type": "code",
   "execution_count": 57,
   "metadata": {},
   "outputs": [],
   "source": [
    "#df_x_set = combination_any_3_features(df_x)\n",
    "#Run time: 24s"
   ]
  },
  {
   "cell_type": "code",
   "execution_count": 58,
   "metadata": {},
   "outputs": [
    {
     "data": {
      "text/plain": [
       "'\\nwith open(r\\'all_features.txt\\', \\'w\\') as fp:\\n    for item in df_x_set:\\n        # write each item on a new line\\n        fp.write(\"%s\\n\" % item)\\n    print(\\'Done\\')\\n'"
      ]
     },
     "execution_count": 58,
     "metadata": {},
     "output_type": "execute_result"
    }
   ],
   "source": [
    "#Write down combination of any 3 features into a txt\n",
    "#Txt already generated\n",
    "\"\"\"\n",
    "with open(r'all_features.txt', 'w') as fp:\n",
    "    for item in df_x_set:\n",
    "        # write each item on a new line\n",
    "        fp.write(\"%s\\n\" % item)\n",
    "    print('Done')\n",
    "\"\"\""
   ]
  },
  {
   "cell_type": "code",
   "execution_count": 59,
   "metadata": {},
   "outputs": [
    {
     "data": {
      "text/plain": [
       "'\\ndef hypothesis(theta, X):\\n    return theta*X\\ndef computeCost(X, y, theta):\\n    y1 = hypothesis(theta, X)\\n    y1=np.sum(y1, axis=1)\\n    return sum(np.sqrt((y1-y)**2))/(2*47)\\ndef gradientDescent(X, y, theta, alpha, i):\\n    J = []  #cost function in each iterations\\n    k = 0\\n    while k < i:        \\n        y1 = hypothesis(theta, X)\\n        y1 = np.sum(y1, axis=1)\\n        for c in range(0, len(X.columns)):\\n            print(theta[c])\\n            theta[c] = theta[c] - alpha*(((y1.sum()-y.sum())*X.iloc[:,c])/len(X))\\n        j = computeCost(X, y, theta)\\n        J.append(j)\\n        k += 1\\n    return J, j, theta\\n'"
      ]
     },
     "execution_count": 59,
     "metadata": {},
     "output_type": "execute_result"
    }
   ],
   "source": [
    "#Early attemps - trying to use mlr from math formular\n",
    "\"\"\"\n",
    "def hypothesis(theta, X):\n",
    "    return theta*X\n",
    "def computeCost(X, y, theta):\n",
    "    y1 = hypothesis(theta, X)\n",
    "    y1=np.sum(y1, axis=1)\n",
    "    return sum(np.sqrt((y1-y)**2))/(2*47)\n",
    "def gradientDescent(X, y, theta, alpha, i):\n",
    "    J = []  #cost function in each iterations\n",
    "    k = 0\n",
    "    while k < i:        \n",
    "        y1 = hypothesis(theta, X)\n",
    "        y1 = np.sum(y1, axis=1)\n",
    "        for c in range(0, len(X.columns)):\n",
    "            print(theta[c])\n",
    "            theta[c] = theta[c] - alpha*(((y1.sum()-y.sum())*X.iloc[:,c])/len(X))\n",
    "        j = computeCost(X, y, theta)\n",
    "        J.append(j)\n",
    "        k += 1\n",
    "    return J, j, theta\n",
    "\"\"\""
   ]
  },
  {
   "cell_type": "markdown",
   "metadata": {},
   "source": [
    "# Screening over 3 features - 1 fixed + combination with 2"
   ]
  },
  {
   "cell_type": "markdown",
   "metadata": {},
   "source": [
    "Features Combination - feats, a list, len(list) lines, each line with n number of features"
   ]
  },
  {
   "cell_type": "code",
   "execution_count": 60,
   "metadata": {},
   "outputs": [],
   "source": [
    "# 1 pre-determined feature + all combination of 2 features = 3 features total\n",
    "# df_x and train_x are both okay here... because the columns are the same\n",
    "feats = combination_any_2_features(df_x,'x30')"
   ]
  },
  {
   "cell_type": "code",
   "execution_count": 61,
   "metadata": {},
   "outputs": [
    {
     "data": {
      "text/plain": [
       "38612"
      ]
     },
     "execution_count": 61,
     "metadata": {},
     "output_type": "execute_result"
    }
   ],
   "source": [
    "# Numbers of combinations (197*196)\n",
    "len(feats)"
   ]
  },
  {
   "cell_type": "code",
   "execution_count": 62,
   "metadata": {},
   "outputs": [
    {
     "name": "stdout",
     "output_type": "stream",
     "text": [
      "x1 x2 x3\n",
      "x2 x3 x4\n",
      "x3 x4 x5\n",
      "x4 x5 x6\n",
      "x5 x6 x7\n",
      "x6 x7 x8\n",
      "x7 x8 x9\n",
      "x8 x9 x10\n",
      "x9 x10 x11\n",
      "x10 x11 x12\n",
      "x11 x12 x13\n",
      "x12 x13 x14\n",
      "x13 x14 x15\n",
      "x14 x15 x16\n",
      "x15 x16 x17\n",
      "x16 x17 x18\n",
      "x17 x18 x19\n",
      "x18 x19 x20\n",
      "x19 x20 x21\n",
      "x20 x21 x22\n",
      "x21 x22 x23\n",
      "x22 x23 x24\n",
      "x23 x24 x25\n",
      "x24 x25 x26\n",
      "x25 x26 x27\n",
      "x26 x27 x28\n",
      "x27 x28 x29\n",
      "x28 x29 x30\n",
      "x29 x30 x31\n",
      "x30 x31 x32\n",
      "x31 x32 x33\n",
      "x32 x33 x34\n",
      "x33 x34 x35\n",
      "x34 x35 x36\n",
      "x35 x36 x37\n",
      "x36 x37 x38\n",
      "x37 x38 x39\n",
      "x38 x39 x40\n",
      "x39 x40 x41\n",
      "x40 x41 x42\n",
      "x41 x42 x43\n",
      "x42 x43 x44\n",
      "x43 x44 x45\n",
      "x44 x45 x46\n",
      "x45 x46 x47\n",
      "x46 x47 x48\n",
      "x47 x48 x49\n",
      "x48 x49 x50\n",
      "x49 x50 x51\n",
      "x50 x51 x52\n",
      "x51 x52 x53\n",
      "x52 x53 x54\n",
      "x53 x54 x55\n",
      "x54 x55 x56\n",
      "x55 x56 x57\n",
      "x56 x57 x58\n",
      "x57 x58 x59\n",
      "x58 x59 x60\n",
      "x59 x60 x61\n",
      "x60 x61 x62\n",
      "x61 x62 x63\n",
      "x62 x63 x64\n",
      "x63 x64 x65\n",
      "x64 x65 x66\n",
      "x65 x66 x67\n",
      "x66 x67 x68\n",
      "x67 x68 x69\n",
      "x68 x69 x70\n",
      "x69 x70 x71\n",
      "x70 x71 x72\n",
      "x71 x72 x73\n",
      "x72 x73 x74\n",
      "x73 x74 x75\n",
      "x74 x75 x76\n",
      "x75 x76 x77\n",
      "x76 x77 x78\n",
      "x77 x78 x79\n",
      "x78 x79 x80\n",
      "x79 x80 x81\n",
      "x80 x81 x82\n",
      "x81 x82 x83\n",
      "x82 x83 x84\n",
      "x83 x84 x85\n",
      "x84 x85 179.59438003021648\n",
      "x85 179.59438003021648 x86\n",
      "179.59438003021648 x86 x87\n",
      "x86 x87 x88\n",
      "x87 x88 x89\n",
      "x88 x89 x90\n",
      "x89 x90 x91\n",
      "x90 x91 x92\n",
      "x91 x92 x93\n",
      "x92 x93 x94\n",
      "x93 x94 x95\n",
      "x94 x95 x96\n",
      "x95 x96 x97\n",
      "x96 x97 x98\n",
      "x97 x98 x99\n",
      "x98 x99 x100\n",
      "x99 x100 x101\n",
      "x100 x101 x102\n",
      "x101 x102 x103\n",
      "x102 x103 x104\n",
      "x103 x104 x105\n",
      "x104 x105 x106\n",
      "x105 x106 x107\n",
      "x106 x107 x108\n",
      "x107 x108 x109\n",
      "x108 x109 x110\n",
      "x109 x110 x111\n",
      "x110 x111 x112\n",
      "x111 x112 x113\n",
      "x112 x113 x114\n",
      "x113 x114 x115\n",
      "x114 x115 x116\n",
      "x115 x116 x117\n",
      "x116 x117 x118\n",
      "x117 x118 x119\n",
      "x118 x119 x120\n",
      "x119 x120 x121\n",
      "x120 x121 x122\n",
      "x121 x122 x123\n",
      "x122 x123 x124\n",
      "x123 x124 x125\n",
      "x124 x125 x126\n",
      "x125 x126 x127\n",
      "x126 x127 x128\n",
      "x127 x128 x129\n",
      "x128 x129 x130\n",
      "x129 x130 x131\n",
      "x130 x131 x132\n",
      "x131 x132 x133\n",
      "x132 x133 x134\n",
      "x133 x134 x135\n",
      "x134 x135 x136\n",
      "x135 x136 x137\n",
      "x136 x137 x138\n",
      "x137 x138 x139\n",
      "x138 x139 x140\n",
      "x139 x140 x141\n",
      "x140 x141 x142\n",
      "x141 x142 x143\n",
      "x142 x143 x144\n",
      "x143 x144 x145\n",
      "x144 x145 x146\n",
      "x145 x146 x147\n",
      "x146 x147 x148\n",
      "x147 x148 x149\n",
      "x148 x149 x150\n",
      "x149 x150 x151\n",
      "x150 x151 x152\n",
      "x151 x152 x153\n",
      "x152 x153 x154\n",
      "x153 x154 x155\n",
      "x154 x155 x156\n",
      "x155 x156 x157\n",
      "x156 x157 x158\n",
      "x157 x158 x159\n",
      "x158 x159 x160\n",
      "x159 x160 x161\n",
      "x160 x161 x162\n",
      "x161 x162 x163\n",
      "x162 x163 x164\n",
      "x163 x164 x165\n",
      "x164 x165 x166\n",
      "x165 x166 x167\n",
      "x166 x167 x168\n",
      "x167 x168 x169\n",
      "x168 x169 x170\n",
      "x169 x170 x171\n",
      "x170 x171 x172\n",
      "x171 x172 x173\n",
      "x172 x173 x174\n",
      "x173 x174 x175\n",
      "x174 x175 x176\n",
      "x175 x176 x177\n",
      "x176 x177 x178\n",
      "x177 x178 x179\n",
      "x178 x179 x180\n",
      "x179 x180 x181\n",
      "x180 x181 x182\n",
      "x181 x182 x183\n",
      "x182 x183 x184\n",
      "x183 x184 x185\n",
      "x184 x185 x186\n",
      "x185 x186 x187\n",
      "x186 x187 x188\n",
      "x187 x188 x189\n",
      "x188 x189 x190\n",
      "x189 x190 x191\n",
      "x190 x191 x192\n",
      "x191 x192 x193\n",
      "x192 x193 x194\n",
      "x193 x194 x195\n",
      "x194 x195 x196\n",
      "x195 x196 x197\n"
     ]
    }
   ],
   "source": [
    "#To test with fake combination of 3 features\n",
    "feats = fake_combination_any_3_features(df_x)"
   ]
  },
  {
   "cell_type": "code",
   "execution_count": 63,
   "metadata": {},
   "outputs": [
    {
     "name": "stdout",
     "output_type": "stream",
     "text": [
      "----------Linear regression of 3 features starts----------\n",
      "Significant!\n",
      "For features x13 x14 x15 : Intercept: [214.75541637] , Coefficient:  [[-1.95651585e+02  1.54038954e+02 -1.40972023e-01]]\n",
      "Training rmse: 25.03 \n",
      "Test rmse:  17.86 \n",
      "Training r2: 0.06 \n",
      "Test r2:  0.33\n"
     ]
    }
   ],
   "source": [
    "print('----------Linear regression of 3 features starts----------')\n",
    "List_r2_4 = []\n",
    "List_r2_3 = []\n",
    "List_r2_2 = []\n",
    "for m in feats:\n",
    "    i = feats.index(m)\n",
    "    Intercept, Coefficient, model = linear_reg_of_3_features(train_x,train_y,feats[i][0],feats[i][1],feats[i][2])\n",
    "    #print('For features',feats[i][0],feats[i][1],feats[i][2],': Intercept:',Intercept,', Coefficient: ',Coefficient)\n",
    "    train_rmse, test_rmse, train_r2,test_r2 = evaluate_model_of_3_features(train_x,train_y,test_x,test_y,model,feats[i][0],feats[i][1],feats[i][2])\n",
    "    #print('Training rmse:',train_rmse, '\\nTest rmse: ',test_rmse, '\\nTraining r2:',train_r2, '\\nTest r2: ',test_r2 )\n",
    "    if float(test_r2) >=0.2: \n",
    "        print('Significant!')\n",
    "        print('For features',feats[i][0],feats[i][1],feats[i][2],': Intercept:',Intercept,', Coefficient: ',Coefficient)\n",
    "        print('Training rmse:',train_rmse, '\\nTest rmse: ',test_rmse, '\\nTraining r2:',train_r2, '\\nTest r2: ',test_r2 )\n",
    "        List_r2_2.append([feats[i][0],feats[i][1],feats[i][2]])\n",
    "    elif float(test_r2) >=0.3:\n",
    "        List_r2_3.append([feats[i][0],feats[i][1],feats[i][2]])"
   ]
  },
  {
   "cell_type": "code",
   "execution_count": 64,
   "metadata": {},
   "outputs": [
    {
     "data": {
      "text/plain": [
       "[]"
      ]
     },
     "execution_count": 64,
     "metadata": {},
     "output_type": "execute_result"
    }
   ],
   "source": [
    "List_r2_3"
   ]
  },
  {
   "cell_type": "code",
   "execution_count": 65,
   "metadata": {},
   "outputs": [],
   "source": [
    "def combination_of_features_doing_MLR(feats,train_x,train_y,test_x,test_y):\n",
    "    print('----------Linear regression of 3 features starts----------')\n",
    "    List_r2_4 = []\n",
    "    List_r2_3 = []\n",
    "    #List_r2_2 = []\n",
    "    for m in feats:\n",
    "        i = feats.index(m)\n",
    "        Intercept, Coefficient, model = linear_reg_of_3_features(train_x,train_y,feats[i][0],feats[i][1],feats[i][2])\n",
    "        #print('For features',feats[i][0],feats[i][1],feats[i][2],': Intercept:',Intercept,', Coefficient: ',Coefficient)\n",
    "        train_rmse, test_rmse, train_r2,test_r2 = evaluate_model_of_3_features(train_x,train_y,test_x,test_y,model,feats[i][0],feats[i][1],feats[i][2])\n",
    "        #print('Training rmse:',train_rmse, '\\nTest rmse: ',test_rmse, '\\nTraining r2:',train_r2, '\\nTest r2: ',test_r2 )\n",
    "        if float(test_r2) >=0.4: \n",
    "            print('Significant!')\n",
    "            print('For features',feats[i][0],feats[i][1],feats[i][2],': Intercept:',Intercept,', Coefficient: ',Coefficient)\n",
    "            print('Training rmse:',train_rmse, '\\nTest rmse: ',test_rmse, '\\nTraining r2:',train_r2, '\\nTest r2: ',test_r2 )\n",
    "            List_r2_4.append([feats[i][0],feats[i][1],feats[i][2]])\n",
    "        elif float(test_r2) >=0.3:\n",
    "            List_r2_3.append([feats[i][0],feats[i][1],feats[i][2]])\n",
    "    return List_r2_4,List_r2_3"
   ]
  },
  {
   "cell_type": "markdown",
   "metadata": {},
   "source": [
    "Screening of some features that are significant from fake combination of 3 features"
   ]
  },
  {
   "cell_type": "code",
   "execution_count": 66,
   "metadata": {},
   "outputs": [
    {
     "name": "stdout",
     "output_type": "stream",
     "text": [
      "----------Linear regression of 3 features starts----------\n"
     ]
    }
   ],
   "source": [
    "# Don't use df_x and df_y, they are not splitted. Use train_x and etc\n",
    "feats = combination_any_2_features(df_x,'x49')\n",
    "List_r2_4_x49,List_r2_3_x49 = combination_of_features_doing_MLR(feats,train_x,train_y,test_x,test_y)\n"
   ]
  },
  {
   "cell_type": "code",
   "execution_count": 72,
   "metadata": {},
   "outputs": [
    {
     "data": {
      "text/plain": [
       "[['x49', 'x13', 'x14'], ['x49', 'x14', 'x13']]"
      ]
     },
     "execution_count": 72,
     "metadata": {},
     "output_type": "execute_result"
    }
   ],
   "source": [
    "List_r2_3_x49"
   ]
  },
  {
   "cell_type": "code",
   "execution_count": 67,
   "metadata": {},
   "outputs": [
    {
     "name": "stdout",
     "output_type": "stream",
     "text": [
      "----------Linear regression of 3 features starts----------\n"
     ]
    }
   ],
   "source": [
    "feats = combination_any_2_features(df_x,'x13')\n",
    "List_r2_4_x13,List_r2_3_x13 = combination_of_features_doing_MLR(feats,train_x,train_y,test_x,test_y)"
   ]
  },
  {
   "cell_type": "code",
   "execution_count": 71,
   "metadata": {},
   "outputs": [
    {
     "data": {
      "text/plain": [
       "[['x13', 'x14', 'x15'],\n",
       " ['x13', 'x14', 'x18'],\n",
       " ['x13', 'x14', 'x48'],\n",
       " ['x13', 'x14', 'x49'],\n",
       " ['x13', 'x14', 'x57'],\n",
       " ['x13', 'x14', 'x73'],\n",
       " ['x13', 'x14', 'x88'],\n",
       " ['x13', 'x14', 'x93'],\n",
       " ['x13', 'x14', 'x94'],\n",
       " ['x13', 'x14', 'x104'],\n",
       " ['x13', 'x14', 'x106'],\n",
       " ['x13', 'x14', 'x107'],\n",
       " ['x13', 'x14', 'x108'],\n",
       " ['x13', 'x14', 'x109'],\n",
       " ['x13', 'x14', 'x110'],\n",
       " ['x13', 'x14', 'x116'],\n",
       " ['x13', 'x14', 'x117'],\n",
       " ['x13', 'x14', 'x118'],\n",
       " ['x13', 'x14', 'x119'],\n",
       " ['x13', 'x14', 'x120'],\n",
       " ['x13', 'x14', 'x131'],\n",
       " ['x13', 'x14', 'x133'],\n",
       " ['x13', 'x14', 'x134'],\n",
       " ['x13', 'x14', 'x136'],\n",
       " ['x13', 'x14', 'x138'],\n",
       " ['x13', 'x14', 'x139'],\n",
       " ['x13', 'x14', 'x148'],\n",
       " ['x13', 'x14', 'x154'],\n",
       " ['x13', 'x14', 'x158'],\n",
       " ['x13', 'x14', 'x159'],\n",
       " ['x13', 'x14', 'x162'],\n",
       " ['x13', 'x14', 'x164'],\n",
       " ['x13', 'x14', 'x166'],\n",
       " ['x13', 'x14', 'x168'],\n",
       " ['x13', 'x14', 'x169'],\n",
       " ['x13', 'x14', 'x173'],\n",
       " ['x13', 'x14', 'x174'],\n",
       " ['x13', 'x14', 'x187'],\n",
       " ['x13', 'x14', 'x191'],\n",
       " ['x13', 'x14', 'x192'],\n",
       " ['x13', 'x14', 'x193'],\n",
       " ['x13', 'x15', 'x14'],\n",
       " ['x13', 'x18', 'x14'],\n",
       " ['x13', 'x48', 'x14'],\n",
       " ['x13', 'x49', 'x14'],\n",
       " ['x13', 'x57', 'x14'],\n",
       " ['x13', 'x73', 'x14'],\n",
       " ['x13', 'x88', 'x14'],\n",
       " ['x13', 'x93', 'x14'],\n",
       " ['x13', 'x94', 'x14'],\n",
       " ['x13', 'x104', 'x14'],\n",
       " ['x13', 'x106', 'x14'],\n",
       " ['x13', 'x107', 'x14'],\n",
       " ['x13', 'x108', 'x14'],\n",
       " ['x13', 'x109', 'x14'],\n",
       " ['x13', 'x110', 'x14'],\n",
       " ['x13', 'x116', 'x14'],\n",
       " ['x13', 'x117', 'x14'],\n",
       " ['x13', 'x118', 'x14'],\n",
       " ['x13', 'x119', 'x14'],\n",
       " ['x13', 'x120', 'x14'],\n",
       " ['x13', 'x131', 'x14'],\n",
       " ['x13', 'x133', 'x14'],\n",
       " ['x13', 'x134', 'x14'],\n",
       " ['x13', 'x136', 'x14'],\n",
       " ['x13', 'x138', 'x14'],\n",
       " ['x13', 'x139', 'x14'],\n",
       " ['x13', 'x148', 'x14'],\n",
       " ['x13', 'x154', 'x14'],\n",
       " ['x13', 'x158', 'x14'],\n",
       " ['x13', 'x159', 'x14'],\n",
       " ['x13', 'x162', 'x14'],\n",
       " ['x13', 'x164', 'x14'],\n",
       " ['x13', 'x166', 'x14'],\n",
       " ['x13', 'x168', 'x14'],\n",
       " ['x13', 'x169', 'x14'],\n",
       " ['x13', 'x173', 'x14'],\n",
       " ['x13', 'x174', 'x14'],\n",
       " ['x13', 'x187', 'x14'],\n",
       " ['x13', 'x191', 'x14'],\n",
       " ['x13', 'x192', 'x14'],\n",
       " ['x13', 'x193', 'x14']]"
      ]
     },
     "execution_count": 71,
     "metadata": {},
     "output_type": "execute_result"
    }
   ],
   "source": [
    "List_r2_3_x13"
   ]
  },
  {
   "cell_type": "code",
   "execution_count": 68,
   "metadata": {},
   "outputs": [],
   "source": [
    "def combination_of_features_doing_MLR_7(feats,train_x,train_y,test_x,test_y):\n",
    "    print('----------Linear regression of 3 features starts----------')\n",
    "    List_r2_7 = []\n",
    "    List_r2_6 = []\n",
    "    #List_r2_2 = []\n",
    "    for m in feats:\n",
    "        i = feats.index(m)\n",
    "        Intercept, Coefficient, model = linear_reg_of_3_features(train_x,train_y,feats[i][0],feats[i][1],feats[i][2])\n",
    "        #print('For features',feats[i][0],feats[i][1],feats[i][2],': Intercept:',Intercept,', Coefficient: ',Coefficient)\n",
    "        train_rmse, test_rmse, train_r2,test_r2 = evaluate_model_of_3_features(train_x,train_y,test_x,test_y,model,feats[i][0],feats[i][1],feats[i][2])\n",
    "        #print('Training rmse:',train_rmse, '\\nTest rmse: ',test_rmse, '\\nTraining r2:',train_r2, '\\nTest r2: ',test_r2 )\n",
    "        if float(test_r2) >=0.7: \n",
    "            print('Significant!')\n",
    "            print('For features',feats[i][0],feats[i][1],feats[i][2],': Intercept:',Intercept,', Coefficient: ',Coefficient)\n",
    "            print('Training rmse:',train_rmse, '\\nTest rmse: ',test_rmse, '\\nTraining r2:',train_r2, '\\nTest r2: ',test_r2 )\n",
    "            List_r2_7.append([feats[i][0],feats[i][1],feats[i][2]])\n",
    "        elif float(test_r2) >=0.6:\n",
    "            List_r2_6.append([feats[i][0],feats[i][1],feats[i][2]])\n",
    "    return List_r2_7,List_r2_6"
   ]
  },
  {
   "cell_type": "code",
   "execution_count": 69,
   "metadata": {},
   "outputs": [
    {
     "data": {
      "text/plain": [
       "[]"
      ]
     },
     "execution_count": 69,
     "metadata": {},
     "output_type": "execute_result"
    }
   ],
   "source": [
    "List_r2_4_x13"
   ]
  },
  {
   "cell_type": "code",
   "execution_count": 83,
   "metadata": {},
   "outputs": [
    {
     "name": "stdout",
     "output_type": "stream",
     "text": [
      "----------Linear regression of 3 features starts----------\n"
     ]
    }
   ],
   "source": [
    "feats = combination_any_2_features(df_x,'x14')\n",
    "List_r2_4_x14,List_r2_3_x14 = combination_of_features_doing_MLR(feats,train_x,train_y,test_x,test_y)"
   ]
  },
  {
   "cell_type": "code",
   "execution_count": null,
   "metadata": {},
   "outputs": [],
   "source": [
    "List_r2_6_x121"
   ]
  },
  {
   "cell_type": "code",
   "execution_count": null,
   "metadata": {},
   "outputs": [],
   "source": [
    "feats = combination_any_2_features(df_x,'x109')\n",
    "List_r2_7_x109,List_r2_6_x109 = combination_of_features_doing_MLR_7(feats,train_x,train_y,test_x,test_y)"
   ]
  },
  {
   "cell_type": "code",
   "execution_count": null,
   "metadata": {},
   "outputs": [],
   "source": [
    "List_r2_6_x109"
   ]
  },
  {
   "cell_type": "code",
   "execution_count": null,
   "metadata": {},
   "outputs": [],
   "source": [
    "feats = combination_any_2_features(df_x,'x15')\n",
    "List_r2_7_x15,List_r2_6_x15 = combination_of_features_doing_MLR_7(feats,train_x,train_y,test_x,test_y)"
   ]
  },
  {
   "cell_type": "code",
   "execution_count": null,
   "metadata": {},
   "outputs": [],
   "source": [
    "List_r2_6_x15"
   ]
  },
  {
   "cell_type": "markdown",
   "metadata": {},
   "source": [
    "# Evaluation and Cross validation with any selection of features"
   ]
  },
  {
   "cell_type": "code",
   "execution_count": 73,
   "metadata": {},
   "outputs": [],
   "source": [
    "from sklearn.model_selection import cross_val_score\n"
   ]
  },
  {
   "cell_type": "code",
   "execution_count": 74,
   "metadata": {},
   "outputs": [],
   "source": [
    "# This program auto - split the data, so safe to use df_x and df_y as input. \n",
    "# Make sure to cut df_x beforehand into a df with chosen amount of features.\n",
    "def fold_5_cross_validation(df_x,df_y):\n",
    "    train_x = df_x[:(int((len(df_x)*0.79)))]\n",
    "    train_y = df_y[:(int((len(df_x)*0.79)))]\n",
    "    test_x = df_x[(int((len(df_x)*0.79))):]\n",
    "    test_y = df_y[(int((len(df_x)*0.79))):]\n",
    "    Intercept, Coefficients, regg = linear_reg_of_n_features(train_x,train_y)\n",
    "    print('Intercept:',Intercept,', Coefficient: ',Coefficients)\n",
    "    train_rmse, test_rmse, train_r2,test_r2 = evaluate_model_of_n_features(train_x,train_y,test_x,test_y,regg)\n",
    "    print('Training set RMSE:',train_rmse, '\\nTest set RMSE: ',test_rmse, '\\nTraining set R^2:',train_r2, '\\nTest set R^2: ',test_r2 )\n",
    "    cvd_scores = cross_val_score(regg, df_x, df_y, cv=5)\n",
    "    print('5 fold Cross Validation score: ',cvd_scores)"
   ]
  },
  {
   "cell_type": "code",
   "execution_count": 75,
   "metadata": {},
   "outputs": [
    {
     "name": "stdout",
     "output_type": "stream",
     "text": [
      "Intercept: [130.49955946] , Coefficient:  [[-1.78333154e-02  1.05814890e+02 -1.32426478e+02]]\n",
      "Training set RMSE: 25.08 \n",
      "Test set RMSE:  18.18 \n",
      "Training set R^2: 0.05 \n",
      "Test set R^2:  0.30\n",
      "5 fold Cross Validation score:  [ 0.11163381  0.043177    0.0841023  -0.46597487  0.31888163]\n"
     ]
    }
   ],
   "source": [
    "df_3f = df_x[['x49', 'x14', 'x13']]\n",
    "fold_5_cross_validation(df_3f,df_y)"
   ]
  },
  {
   "cell_type": "code",
   "execution_count": 76,
   "metadata": {},
   "outputs": [
    {
     "name": "stdout",
     "output_type": "stream",
     "text": [
      "A plot of axis: x49 x14 , and  x13\n"
     ]
    },
    {
     "data": {
      "image/png": "[encoded data removed]",
      "text/plain": [
       "<Figure size 432x288 with 1 Axes>"
      ]
     },
     "metadata": {
      "needs_background": "light"
     },
     "output_type": "display_data"
    }
   ],
   "source": [
    "plot_three_features(df_x,'x49', 'x14', 'x13')"
   ]
  },
  {
   "cell_type": "code",
   "execution_count": 77,
   "metadata": {},
   "outputs": [
    {
     "name": "stdout",
     "output_type": "stream",
     "text": [
      "Intercept: [131.76224794] , Coefficient:  [[-1.73863169e-02  1.05867299e+02 -1.31636384e+02  4.37772039e+01]]\n",
      "Training set RMSE: 25.07 \n",
      "Test set RMSE:  18.19 \n",
      "Training set R^2: 0.05 \n",
      "Test set R^2:  0.30\n",
      "5 fold Cross Validation score:  [ 0.10869671  0.04323055  0.08299696 -0.46569326  0.31856033]\n"
     ]
    }
   ],
   "source": [
    "df_4f = df_x[['x49', 'x14', 'x13','x1']]\n",
    "fold_5_cross_validation(df_4f,df_y)"
   ]
  },
  {
   "cell_type": "markdown",
   "metadata": {},
   "source": [
    "Best combination of features in Sigman's code: x180, x24, x25, x29, x40, x57, x70"
   ]
  },
  {
   "cell_type": "code",
   "execution_count": 78,
   "metadata": {},
   "outputs": [
    {
     "name": "stdout",
     "output_type": "stream",
     "text": [
      "Intercept: [87.4674066] , Coefficient:  [[  1.02955633   3.30333859   1.43254479 342.0847714  143.82214038\n",
      "    0.88185288   2.28302275]]\n",
      "Training set RMSE: 24.28 \n",
      "Test set RMSE:  26.25 \n",
      "Training set R^2: 0.11 \n",
      "Test set R^2:  -0.46\n",
      "5 fold Cross Validation score:  [-0.08299348  0.11835066 -0.36752795 -0.66785281 -0.55278495]\n"
     ]
    }
   ],
   "source": [
    "df_7f = df_x[['x24','x180','x25','x29','x40','x57','x70']]\n",
    "fold_5_cross_validation(df_7f,df_y)"
   ]
  },
  {
   "cell_type": "markdown",
   "metadata": {},
   "source": [
    "regularization, l1l2 right - havn't done"
   ]
  },
  {
   "cell_type": "markdown",
   "metadata": {},
   "source": [
    "# Streamline Cross Validation"
   ]
  },
  {
   "cell_type": "code",
   "execution_count": 79,
   "metadata": {},
   "outputs": [],
   "source": [
    "def fold_5_cross_validation_for_stream(df_x,df_y):\n",
    "    train_x = df_x[:(int((len(df_x)*0.79)))]\n",
    "    train_y = df_y[:(int((len(df_x)*0.79)))]\n",
    "    test_x = df_x[(int((len(df_x)*0.79))):]\n",
    "    test_y = df_y[(int((len(df_x)*0.79))):]\n",
    "    Intercept, Coefficients, regg = linear_reg_of_n_features(train_x,train_y)\n",
    "    #print('Intercept:',Intercept,', Coefficient: ',Coefficients)\n",
    "    train_rmse, test_rmse, train_r2,test_r2 = evaluate_model_of_n_features(train_x,train_y,test_x,test_y,regg)\n",
    "    #print('Training set RMSE:',train_rmse, '\\nTest set RMSE: ',test_rmse, '\\nTraining set R^2:',train_r2, '\\nTest set R^2: ',test_r2 )\n",
    "    cvd_scores = cross_val_score(regg, df_x, df_y, cv=5)\n",
    "    sum_cvd = sum(cvd_scores)\n",
    "    print('5 fold Cross Validation score: ',sum_cvd)\n",
    "    return sum_cvd"
   ]
  },
  {
   "cell_type": "code",
   "execution_count": 80,
   "metadata": {},
   "outputs": [
    {
     "name": "stdout",
     "output_type": "stream",
     "text": [
      "5 fold Cross Validation score:  -0.06334753696791784\n",
      "5 fold Cross Validation score:  -0.8468928776577894\n",
      "5 fold Cross Validation score:  -0.6938794793116629\n",
      "5 fold Cross Validation score:  -0.3029588693463474\n",
      "5 fold Cross Validation score:  -0.3996126247141394\n",
      "5 fold Cross Validation score:  -1.3872052772304158\n",
      "5 fold Cross Validation score:  -0.13937051338020168\n",
      "5 fold Cross Validation score:  -0.5195620172270923\n",
      "5 fold Cross Validation score:  -0.981297221244323\n",
      "5 fold Cross Validation score:  -0.15264527406893202\n",
      "5 fold Cross Validation score:  -1.1860071406243036\n",
      "5 fold Cross Validation score:  -1.4618542483803263\n",
      "5 fold Cross Validation score:  -0.7581190767227426\n",
      "5 fold Cross Validation score:  -0.9064379558430774\n",
      "5 fold Cross Validation score:  -1.6889535420744646\n",
      "5 fold Cross Validation score:  -0.39979867052184126\n",
      "5 fold Cross Validation score:  -1.2153612521328203\n",
      "5 fold Cross Validation score:  -2.316678619289725\n",
      "5 fold Cross Validation score:  0.06942101377342103\n",
      "5 fold Cross Validation score:  -0.570709392890362\n",
      "5 fold Cross Validation score:  -1.1582424841050838\n",
      "5 fold Cross Validation score:  -1.9550350359478381\n",
      "5 fold Cross Validation score:  -2.0811633763623174\n",
      "5 fold Cross Validation score:  -3.233133179070318\n",
      "5 fold Cross Validation score:  -0.3492231042646168\n",
      "5 fold Cross Validation score:  -1.000899756352632\n",
      "5 fold Cross Validation score:  -1.442383516137806\n",
      "5 fold Cross Validation score:  -0.1572117615242694\n",
      "5 fold Cross Validation score:  -0.5982536244254136\n",
      "5 fold Cross Validation score:  -0.8938624775799554\n",
      "5 fold Cross Validation score:  -0.04266763056037548\n",
      "5 fold Cross Validation score:  -0.38974651099382696\n",
      "5 fold Cross Validation score:  -1.064642665391038\n",
      "5 fold Cross Validation score:  -1.3175348345409068\n",
      "5 fold Cross Validation score:  -0.7810507974114627\n",
      "5 fold Cross Validation score:  -2.05650526352795\n",
      "5 fold Cross Validation score:  -0.6199791548007518\n",
      "5 fold Cross Validation score:  -1.4616480999583268\n",
      "5 fold Cross Validation score:  -1.8693902929788666\n",
      "5 fold Cross Validation score:  -1.1570833977080255\n",
      "5 fold Cross Validation score:  -1.2889591908117302\n",
      "5 fold Cross Validation score:  -1.6746355324316875\n",
      "5 fold Cross Validation score:  0.24301658388354208\n",
      "5 fold Cross Validation score:  -0.19519302175001818\n",
      "5 fold Cross Validation score:  -0.707255064877861\n",
      "5 fold Cross Validation score:  0.016561213414120424\n",
      "5 fold Cross Validation score:  -2.0061893195609812\n",
      "5 fold Cross Validation score:  -1.3447442013699378\n",
      "5 fold Cross Validation score:  0.08326600200062773\n",
      "5 fold Cross Validation score:  -0.3047350735983959\n",
      "5 fold Cross Validation score:  -0.8963134084258345\n",
      "5 fold Cross Validation score:  0.04737843842602418\n",
      "5 fold Cross Validation score:  -0.4157043540962827\n",
      "5 fold Cross Validation score:  -1.4371217292993477\n",
      "5 fold Cross Validation score:  0.2241483477666112\n",
      "5 fold Cross Validation score:  -1.600713982957173\n",
      "5 fold Cross Validation score:  -1.1515545393942672\n",
      "5 fold Cross Validation score:  0.10017314655993004\n",
      "5 fold Cross Validation score:  -0.32630106673899295\n",
      "5 fold Cross Validation score:  -1.0020525222162642\n",
      "5 fold Cross Validation score:  -4.084910066911117\n",
      "5 fold Cross Validation score:  -3.8536014094036437\n",
      "5 fold Cross Validation score:  -4.538088904620192\n",
      "5 fold Cross Validation score:  -0.06703038195569289\n",
      "5 fold Cross Validation score:  -0.1884297244255736\n",
      "5 fold Cross Validation score:  -1.5279546604374676\n",
      "5 fold Cross Validation score:  -0.4192826438495336\n",
      "5 fold Cross Validation score:  -0.7320370004386227\n",
      "5 fold Cross Validation score:  -1.4463143477843228\n",
      "5 fold Cross Validation score:  -0.432467319975421\n",
      "5 fold Cross Validation score:  -2.477681530411225\n",
      "5 fold Cross Validation score:  -1.620635590156505\n",
      "5 fold Cross Validation score:  -0.020071001635752705\n",
      "5 fold Cross Validation score:  -0.28433485636037914\n",
      "5 fold Cross Validation score:  -0.9713505149347006\n",
      "5 fold Cross Validation score:  -0.24876287764812965\n",
      "5 fold Cross Validation score:  -0.6952628009576034\n",
      "5 fold Cross Validation score:  -0.6427777216153119\n",
      "5 fold Cross Validation score:  0.2280746891109604\n",
      "5 fold Cross Validation score:  -0.5331315550598584\n",
      "5 fold Cross Validation score:  -1.3170142007674592\n",
      "5 fold Cross Validation score:  -0.7657769761339954\n",
      "5 fold Cross Validation score:  -1.3654285225295526\n",
      "5 fold Cross Validation score:  -1.4916628141383637\n",
      "5 fold Cross Validation score:  -0.2251065603143546\n",
      "5 fold Cross Validation score:  -0.6853205326773191\n",
      "5 fold Cross Validation score:  -1.462840864859833\n",
      "5 fold Cross Validation score:  -0.4244974388250268\n",
      "5 fold Cross Validation score:  -2.0622570434158556\n",
      "5 fold Cross Validation score:  -0.6942834102612961\n",
      "5 fold Cross Validation score:  0.041826189923121815\n",
      "5 fold Cross Validation score:  -0.034636144298185734\n",
      "5 fold Cross Validation score:  -0.8438648781943814\n",
      "5 fold Cross Validation score:  -0.8251272752651968\n",
      "5 fold Cross Validation score:  -1.9555271051489715\n",
      "5 fold Cross Validation score:  -1.7442864212774511\n",
      "5 fold Cross Validation score:  -0.8847054444208747\n",
      "5 fold Cross Validation score:  -2.4197819816030615\n",
      "5 fold Cross Validation score:  -1.5355433032465273\n",
      "5 fold Cross Validation score:  0.4006417034355967\n",
      "5 fold Cross Validation score:  -0.2366281275385267\n",
      "5 fold Cross Validation score:  -0.38429093089117594\n",
      "5 fold Cross Validation score:  -0.3334245227733752\n",
      "5 fold Cross Validation score:  -0.7130430548065141\n",
      "5 fold Cross Validation score:  -1.8153672168427326\n",
      "5 fold Cross Validation score:  -0.48241182481056377\n",
      "5 fold Cross Validation score:  -2.2816578196212993\n",
      "5 fold Cross Validation score:  -2.5233544161713803\n",
      "5 fold Cross Validation score:  0.16389191313822005\n",
      "5 fold Cross Validation score:  -0.2241046614481328\n",
      "5 fold Cross Validation score:  -0.35789496674747845\n",
      "5 fold Cross Validation score:  -0.03415017596758296\n",
      "5 fold Cross Validation score:  -0.33233438193415754\n",
      "5 fold Cross Validation score:  -0.2988404622566547\n",
      "5 fold Cross Validation score:  -0.8462175746078149\n",
      "5 fold Cross Validation score:  -0.4996678540375078\n",
      "5 fold Cross Validation score:  -1.8530851583194983\n",
      "5 fold Cross Validation score:  -0.1347687716167867\n",
      "5 fold Cross Validation score:  -0.8103998167398565\n",
      "5 fold Cross Validation score:  -1.1482757450656336\n",
      "5 fold Cross Validation score:  -1.7537509145993626\n",
      "5 fold Cross Validation score:  -2.9056464112331577\n",
      "5 fold Cross Validation score:  -2.792562698982867\n",
      "5 fold Cross Validation score:  -0.40758825233791685\n",
      "5 fold Cross Validation score:  -0.34460108161360636\n",
      "5 fold Cross Validation score:  -0.8863113615678778\n",
      "5 fold Cross Validation score:  0.09178981246583295\n",
      "5 fold Cross Validation score:  -1.8150879762079015\n",
      "5 fold Cross Validation score:  -0.3691733158449064\n",
      "5 fold Cross Validation score:  -0.07272572584604176\n",
      "5 fold Cross Validation score:  -1.790687094895001\n",
      "5 fold Cross Validation score:  -0.8421131656911162\n",
      "5 fold Cross Validation score:  0.12405138387431713\n",
      "5 fold Cross Validation score:  -1.5241932430635994\n",
      "5 fold Cross Validation score:  -0.3091027932713306\n",
      "5 fold Cross Validation score:  -0.02514645105692548\n",
      "5 fold Cross Validation score:  -0.44589424634352115\n",
      "5 fold Cross Validation score:  -0.900840555964868\n",
      "5 fold Cross Validation score:  -0.5327899485150639\n",
      "5 fold Cross Validation score:  -1.8273615996482295\n",
      "5 fold Cross Validation score:  -1.2046666976921543\n",
      "5 fold Cross Validation score:  -0.11318138306294467\n",
      "5 fold Cross Validation score:  -0.3561537820250862\n",
      "5 fold Cross Validation score:  -1.2413005693746726\n",
      "5 fold Cross Validation score:  0.0420352912968196\n",
      "5 fold Cross Validation score:  -0.3528305839070748\n",
      "5 fold Cross Validation score:  -0.8565705068344734\n",
      "5 fold Cross Validation score:  -0.07937727740050471\n",
      "5 fold Cross Validation score:  -0.7017830581001658\n",
      "5 fold Cross Validation score:  -0.5949657991648889\n",
      "5 fold Cross Validation score:  -0.10846717194744548\n",
      "5 fold Cross Validation score:  -1.28458084662576\n",
      "5 fold Cross Validation score:  -2.6767557536869484\n",
      "5 fold Cross Validation score:  -0.3746510193347392\n",
      "5 fold Cross Validation score:  -0.7160538637708194\n",
      "5 fold Cross Validation score:  -1.1619414513109416\n",
      "5 fold Cross Validation score:  -0.4149088114570214\n",
      "5 fold Cross Validation score:  -0.7074233786740177\n",
      "5 fold Cross Validation score:  -1.2453102046749347\n",
      "5 fold Cross Validation score:  -0.07208692755605339\n",
      "5 fold Cross Validation score:  -0.4674348197760152\n",
      "5 fold Cross Validation score:  -1.14721338589113\n",
      "5 fold Cross Validation score:  0.06121727912684716\n",
      "5 fold Cross Validation score:  -1.1379018675862196\n",
      "5 fold Cross Validation score:  -1.3043824536859474\n",
      "5 fold Cross Validation score:  0.06276400996134857\n",
      "5 fold Cross Validation score:  -0.26116991077388285\n",
      "5 fold Cross Validation score:  -0.44341206816932766\n",
      "5 fold Cross Validation score:  -1.1205717047034625\n",
      "5 fold Cross Validation score:  -1.129809865152382\n",
      "5 fold Cross Validation score:  -2.6209453167804515\n",
      "5 fold Cross Validation score:  -1.0719602794688141\n",
      "5 fold Cross Validation score:  -4.881029416605237\n",
      "5 fold Cross Validation score:  -1.6233872028278191\n",
      "5 fold Cross Validation score:  0.009007832887048317\n",
      "5 fold Cross Validation score:  -0.2737827153612371\n",
      "5 fold Cross Validation score:  -0.8659419521989741\n",
      "5 fold Cross Validation score:  -1.5613252242435234\n",
      "5 fold Cross Validation score:  -0.7093887177720104\n",
      "5 fold Cross Validation score:  -1.1444994001781512\n",
      "5 fold Cross Validation score:  -0.0595256358729882\n",
      "5 fold Cross Validation score:  -0.7690284621010526\n",
      "5 fold Cross Validation score:  -1.0920883815555031\n",
      "5 fold Cross Validation score:  -0.25937980266925076\n",
      "5 fold Cross Validation score:  -0.36588975458387873\n",
      "5 fold Cross Validation score:  -1.5264897543251816\n",
      "5 fold Cross Validation score:  -0.33624052829935247\n",
      "5 fold Cross Validation score:  -0.48774172335331756\n",
      "5 fold Cross Validation score:  -1.1863212386464086\n",
      "5 fold Cross Validation score:  -0.2748578844449511\n",
      "5 fold Cross Validation score:  -0.9024373294091953\n",
      "5 fold Cross Validation score:  -1.2237323886486238\n",
      "5 fold Cross Validation score:  0.03725115373881405\n",
      "5 fold Cross Validation score:  -0.20968912734088407\n",
      "5 fold Cross Validation score:  -0.6587407102265668\n",
      "5 fold Cross Validation score:  -0.18304141012471298\n",
      "5 fold Cross Validation score:  -2.159571982741505\n",
      "5 fold Cross Validation score:  -0.9997408632095064\n",
      "5 fold Cross Validation score:  0.185517744083175\n",
      "5 fold Cross Validation score:  -0.03506934353217417\n",
      "5 fold Cross Validation score:  -0.74042512508769\n",
      "5 fold Cross Validation score:  -0.29017295486523664\n",
      "5 fold Cross Validation score:  -1.0308308844332654\n",
      "5 fold Cross Validation score:  -0.8375917440060491\n",
      "5 fold Cross Validation score:  0.2277893266511294\n",
      "5 fold Cross Validation score:  -1.0992659922363353\n",
      "5 fold Cross Validation score:  -1.0458435687671255\n",
      "5 fold Cross Validation score:  -0.08932461013859794\n",
      "5 fold Cross Validation score:  -1.055330582771257\n",
      "5 fold Cross Validation score:  -1.1070803958221396\n",
      "5 fold Cross Validation score:  -0.37431478041168653\n",
      "5 fold Cross Validation score:  -0.2710629610805323\n",
      "5 fold Cross Validation score:  -0.9264874511743247\n",
      "5 fold Cross Validation score:  -0.26117096541128315\n",
      "5 fold Cross Validation score:  -0.5658421418394457\n",
      "5 fold Cross Validation score:  -0.5911102444673764\n",
      "5 fold Cross Validation score:  -0.12143559861650688\n",
      "5 fold Cross Validation score:  -0.4671538428019142\n",
      "5 fold Cross Validation score:  -1.256293283339748\n",
      "5 fold Cross Validation score:  -0.2994779823566154\n",
      "5 fold Cross Validation score:  -0.6979583999021777\n",
      "5 fold Cross Validation score:  -0.9557273940260793\n",
      "5 fold Cross Validation score:  0.3424963386813318\n",
      "5 fold Cross Validation score:  -0.17484225413300325\n",
      "5 fold Cross Validation score:  -1.0460040256606642\n",
      "5 fold Cross Validation score:  -0.26560276164047913\n",
      "5 fold Cross Validation score:  -2.2999868533682664\n",
      "5 fold Cross Validation score:  -0.565815780279628\n",
      "5 fold Cross Validation score:  -0.7495528894607458\n",
      "5 fold Cross Validation score:  -1.3211240101260553\n",
      "5 fold Cross Validation score:  -1.1338111510191815\n",
      "5 fold Cross Validation score:  0.045177564448064644\n",
      "5 fold Cross Validation score:  -0.05350970977230107\n",
      "5 fold Cross Validation score:  -0.3443671079881512\n",
      "5 fold Cross Validation score:  0.15889382670282415\n",
      "5 fold Cross Validation score:  -0.6148321744637085\n",
      "5 fold Cross Validation score:  -0.3930016772608591\n",
      "5 fold Cross Validation score:  0.29227155513257563\n",
      "5 fold Cross Validation score:  -1.7097765026629008\n",
      "5 fold Cross Validation score:  -0.37343282619139184\n",
      "5 fold Cross Validation score:  0.08089136649330386\n",
      "5 fold Cross Validation score:  -0.33048847015770033\n",
      "5 fold Cross Validation score:  -1.0155392545021757\n",
      "5 fold Cross Validation score:  -0.256514313843179\n",
      "5 fold Cross Validation score:  -0.5213079698111767\n",
      "5 fold Cross Validation score:  -1.0802728297807178\n",
      "5 fold Cross Validation score:  -0.7161094875363971\n",
      "5 fold Cross Validation score:  -0.7769542269766814\n",
      "5 fold Cross Validation score:  -1.6586602710714051\n",
      "5 fold Cross Validation score:  -0.6292641353551769\n",
      "5 fold Cross Validation score:  -1.5836829410836653\n",
      "5 fold Cross Validation score:  -1.725562045394757\n",
      "5 fold Cross Validation score:  -1.3280151828216509\n",
      "5 fold Cross Validation score:  -1.5270314679155204\n",
      "5 fold Cross Validation score:  -2.9752573841141214\n",
      "5 fold Cross Validation score:  0.09273906219549388\n",
      "5 fold Cross Validation score:  -0.8475055771670832\n",
      "5 fold Cross Validation score:  -1.0531676584632383\n",
      "5 fold Cross Validation score:  0.1099737927919131\n",
      "5 fold Cross Validation score:  -1.9298582068949137\n",
      "5 fold Cross Validation score:  -0.8411170031654399\n",
      "5 fold Cross Validation score:  0.04213062750007279\n",
      "5 fold Cross Validation score:  -0.6111038502971871\n",
      "5 fold Cross Validation score:  -1.0939159439466455\n",
      "5 fold Cross Validation score:  0.2444313536319167\n",
      "5 fold Cross Validation score:  -1.6779221569395562\n",
      "5 fold Cross Validation score:  -1.0924800492993274\n"
     ]
    }
   ],
   "source": [
    "comb1=0\n",
    "comb2 =0\n",
    "comb3=0\n",
    "for i in range(1,90):\n",
    "    df_x=df_x.sample(frac=1,random_state=i)\n",
    "    df_y = df_y.sample(frac=1,random_state = i)\n",
    "    df_3f = df_x[['x49', 'x14', 'x13']]\n",
    "    comb1 += fold_5_cross_validation_for_stream(df_3f,df_y)\n",
    "    df_3f = df_x[['x121', 'x109', 'x15']]\n",
    "    comb2 += fold_5_cross_validation_for_stream(df_3f,df_y)\n",
    "    df_7f = df_x[['x24','x180','x25','x29','x40','x57','x70']]\n",
    "    comb3 += fold_5_cross_validation_for_stream(df_7f,df_y)"
   ]
  },
  {
   "cell_type": "code",
   "execution_count": 81,
   "metadata": {},
   "outputs": [
    {
     "name": "stdout",
     "output_type": "stream",
     "text": [
      "-27.977389169369612 -90.21002073799458 -111.45090599815929\n"
     ]
    }
   ],
   "source": [
    "print(comb1,comb2,comb3)"
   ]
  },
  {
   "cell_type": "markdown",
   "metadata": {},
   "source": [
    "# Summary"
   ]
  },
  {
   "cell_type": "markdown",
   "metadata": {},
   "source": [
    "Gladly discovered hypothesis is wrong."
   ]
  }
 ],
 "metadata": {
  "kernelspec": {
   "display_name": "Python 3.7.5 ('edbo')",
   "language": "python",
   "name": "python3"
  },
  "language_info": {
   "codemirror_mode": {
    "name": "ipython",
    "version": 3
   },
   "file_extension": ".py",
   "mimetype": "text/x-python",
   "name": "python",
   "nbconvert_exporter": "python",
   "pygments_lexer": "ipython3",
   "version": "3.7.5"
  },
  "orig_nbformat": 4,
  "vscode": {
   "interpreter": {
    "hash": "35dcc0571dd3b30a10e7e4f63f8ab320e21fb7c36bdfb0091fdcd275eb57d35a"
   }
  }
 },
 "nbformat": 4,
 "nbformat_minor": 2
}
